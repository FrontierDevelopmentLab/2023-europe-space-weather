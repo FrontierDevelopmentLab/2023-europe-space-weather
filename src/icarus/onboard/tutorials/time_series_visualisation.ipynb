{
 "cells": [
  {
   "cell_type": "code",
   "execution_count": null,
   "metadata": {},
   "outputs": [],
   "source": [
    "import astropy\n",
    "import astropy.io.fits as fits\n",
    "import matplotlib.pyplot as plt\n",
    "import os\n",
    "from pathlib import Path\n",
    "from glob import glob\n",
    "import re\n",
    "import logging\n",
    "from rich.progress import Progress\n",
    "import numpy as np\n",
    "from sunpy.map import Map\n",
    "import pandas as pd\n",
    "from datetime import datetime, date, timedelta\n",
    "import sscws\n",
    "from sunpy.net import Fido, attrs as a\n",
    "from functools import reduce\n",
    "\n",
    "from matplotlib.colors import LogNorm, PowerNorm, Normalize\n",
    "from tqdm.notebook import tqdm\n",
    "#from tqdm import tqdm\n",
    "\n",
    "import warnings\n",
    "import cv2 # pip install opencv-python\n",
    "\n",
    "from sunpy.map.maputils import all_coordinates_from_map\n",
    "import astropy.units as u\n",
    "from astropy.coordinates import SkyCoord"
   ]
  },
  {
   "cell_type": "markdown",
   "metadata": {},
   "source": [
    "### Experiments Week 6"
   ]
  },
  {
   "cell_type": "code",
   "execution_count": null,
   "metadata": {},
   "outputs": [],
   "source": [
    "# Plot before and after processing\n",
    "# for 2014 event"
   ]
  },
  {
   "cell_type": "code",
   "execution_count": null,
   "metadata": {},
   "outputs": [],
   "source": [
    "def generate_image(m, ref_map, img_fname, vmin=0, vmax=20):\n",
    "    \"\"\"\n",
    "    for single image\n",
    "    \"\"\"\n",
    "    # m = Map(f)\n",
    "\n",
    "    pixel_coords = all_coordinates_from_map(m)\n",
    "    solar_center = SkyCoord(0 * u.deg, 0 * u.deg, frame=m.coordinate_frame)\n",
    "    pixel_radii = np.sqrt(\n",
    "        (pixel_coords.Tx - solar_center.Tx) ** 2\n",
    "        + (pixel_coords.Ty - solar_center.Ty) ** 2\n",
    "    )\n",
    "    # r2 masking\n",
    "    mask = 1 - ((pixel_radii / pixel_radii.max()) ** 2) * 0.5\n",
    "    mask = mask.value\n",
    "    mask[pixel_radii.value >= 0.9 * pixel_coords.Tx.max().value] = np.nan\n",
    "\n",
    "    data = ((m.data / m.exposure_time.value) - ref_map) / mask\n",
    "\n",
    "    # imshow is mirror to m.plot\n",
    "    plt.imshow(data, origin=\"lower\", cmap=\"stereocor2\", vmin=vmin, vmax=vmax)\n",
    "    plt.savefig(img_fname, dpi=100)\n",
    "    plt.show()\n",
    "\n",
    "    #plt.savefig(img_fname, dpi=100)\n",
    "    #plt.close()\n",
    "\n",
    "def generate_ref_data(filenames, polar_angle):\n",
    "    \"\"\"\n",
    "    generate background reference image to be subtracted\n",
    "    \"\"\"\n",
    "\n",
    "    ref_data = []\n",
    "    for i in filenames[:15]:  # range(len(filenames)):\n",
    "        # angle = fits.getheader(filenames[i])['POLAR']\n",
    "        m = Map(i)\n",
    "        angle = m.meta[\"POLAR\"]\n",
    "        # print(angle)\n",
    "        if angle == polar_angle:\n",
    "            ref_data.append(m.data / m.exposure_time.value)\n",
    "\n",
    "    ref_map = np.mean(ref_data, axis=0)\n",
    "\n",
    "    return ref_map"
   ]
  },
  {
   "cell_type": "code",
   "execution_count": null,
   "metadata": {},
   "outputs": [],
   "source": [
    "eventdate = \"20140222\"\n",
    "instrument = \"cor2\"  #'cor1'\n",
    "satellite = \"a\"  # \"b\"\n",
    "\n",
    "base_path = \"/mnt/onboard_data/visualization/cme_video_{}_{}/\".format(\n",
    "    instrument, satellite\n",
    ")\n",
    "\n",
    "fnames = sorted(\n",
    "    glob(\n",
    "        \"/mnt/onboard_data/data/{}/{}_*_n*{}.fts\".format(\n",
    "            instrument, eventdate, satellite\n",
    "        )\n",
    "    )\n",
    ")\n",
    "\n",
    "print(len(fnames))"
   ]
  },
  {
   "cell_type": "code",
   "execution_count": null,
   "metadata": {},
   "outputs": [],
   "source": [
    "#fname = fnames[45] # 0, 45, 51\n",
    "fname = fnames[51]\n",
    "\n",
    "print(fname)\n",
    "print(Map(fname).meta[\"POLAR\"])\n",
    "\n",
    "req_polar = int(Map(fname).meta[\"POLAR\"])"
   ]
  },
  {
   "cell_type": "code",
   "execution_count": null,
   "metadata": {},
   "outputs": [],
   "source": [
    "# processed\n",
    "\n",
    "img_fname = os.path.join(\n",
    "                    \"./\",\n",
    "                    \"processed_\" + os.path.basename(fname).replace(\".fts\", \".jpg\"),\n",
    "                )\n",
    "\n",
    "ref_map = generate_ref_data(fnames, req_polar)\n",
    "generate_image(Map(fname), ref_map, img_fname=img_fname, vmin=0, vmax=20)"
   ]
  },
  {
   "cell_type": "code",
   "execution_count": null,
   "metadata": {},
   "outputs": [],
   "source": [
    "# unprocessed\n",
    "\n",
    "img_fname = os.path.join(\n",
    "                    \"./\",\n",
    "                    \"unprocessed_\" + os.path.basename(fname).replace(\".fts\", \".jpg\"),\n",
    "                )\n",
    "\n",
    "plt.imshow(Map(fname).data, origin=\"lower\")# cmap=\"stereocor2\", vmin=vmin, vmax=vmax)\n",
    "plt.savefig(img_fname, dpi=100)\n",
    "plt.show()"
   ]
  },
  {
   "cell_type": "markdown",
   "metadata": {},
   "source": [
    "### Experiments Week 5"
   ]
  },
  {
   "cell_type": "code",
   "execution_count": null,
   "metadata": {},
   "outputs": [],
   "source": [
    "base_path = '/mnt/onboard_data/visualization/cme_video_1/'\n",
    "os.makedirs(base_path, exist_ok=True)"
   ]
  },
  {
   "cell_type": "code",
   "execution_count": null,
   "metadata": {},
   "outputs": [],
   "source": [
    "fnames_a = sorted(glob(\"/mnt/onboard_data/data/cor2/20140222_*_n*a.fts\"))\n",
    "fnames_b = sorted(glob(\"/mnt/onboard_data/data/cor2/20140222_*_n*b.fts\"))\n",
    "\n",
    "print(len(fnames_a), len(fnames_b))"
   ]
  },
  {
   "cell_type": "code",
   "execution_count": null,
   "metadata": {},
   "outputs": [],
   "source": [
    "f = fnames_a[0]\n",
    "m = Map(f)\n",
    "m.rotate(recenter=True)"
   ]
  },
  {
   "cell_type": "code",
   "execution_count": null,
   "metadata": {},
   "outputs": [],
   "source": [
    "for f in fnames_a:\n",
    "    print(f)"
   ]
  },
  {
   "cell_type": "code",
   "execution_count": null,
   "metadata": {},
   "outputs": [],
   "source": [
    "warnings.simplefilter('ignore')\n",
    "for f in tqdm(fnames_a):\n",
    "    # plot map to jpg\n",
    "    m = Map(f)\n",
    "    m = Map(np.log(m.data / m.exposure_time.value), m.meta)\n",
    "    #print('VALUE RANGE', m.data.min(), m.data.max())\n",
    "    #print(m.exposure_time)\n",
    "    plt.figure(figsize=(4, 4))\n",
    "    m.plot(norm=Normalize(vmin=4, vmax=7))\n",
    "    plt.savefig(os.path.join(base_path, 'cor2sa_' + os.path.basename(f).replace('.fts', '.jpg')), dpi=100)\n",
    "    plt.close()"
   ]
  },
  {
   "cell_type": "code",
   "execution_count": null,
   "metadata": {},
   "outputs": [],
   "source": [
    "def generate_ref_data(filenames, polar_angle):\n",
    "\n",
    "    ref_data = []\n",
    "    for i in filenames[:15]:#range(len(filenames)):\n",
    "        #angle = fits.getheader(filenames[i])['POLAR']\n",
    "        m= Map(i)\n",
    "        angle = m.meta['POLAR'] \n",
    "        #print(angle)\n",
    "        if angle == polar_angle: \n",
    "            ref_data.append( m.data / m.exposure_time.value )\n",
    "\n",
    "    ref_map = np.mean(ref_data, axis=0)\n",
    "\n",
    "    return ref_map\n",
    "#generate_ref_data(fnames_a, 0)"
   ]
  },
  {
   "cell_type": "code",
   "execution_count": null,
   "metadata": {},
   "outputs": [],
   "source": [
    "fits.getheader(fnames_a[0])"
   ]
  },
  {
   "cell_type": "code",
   "execution_count": null,
   "metadata": {},
   "outputs": [],
   "source": [
    "m0 = Map(fnames_a[0])\n",
    "print(fnames_a[0])\n",
    "m1 = Map(fnames_a[1])\n",
    "print(fnames_a[1])\n",
    "\n",
    "plt.imshow(m0.data)"
   ]
  },
  {
   "cell_type": "code",
   "execution_count": null,
   "metadata": {},
   "outputs": [],
   "source": [
    "plt.imshow(m1.data)"
   ]
  },
  {
   "cell_type": "code",
   "execution_count": null,
   "metadata": {},
   "outputs": [],
   "source": [
    "lens = []\n",
    "for i in ref_data:\n",
    "    lens.append(i.shape)"
   ]
  },
  {
   "cell_type": "code",
   "execution_count": null,
   "metadata": {},
   "outputs": [],
   "source": [
    "np.unique(lens, return_counts=True)"
   ]
  },
  {
   "cell_type": "code",
   "execution_count": null,
   "metadata": {},
   "outputs": [],
   "source": [
    "ref_map.shape"
   ]
  },
  {
   "cell_type": "code",
   "execution_count": null,
   "metadata": {},
   "outputs": [],
   "source": [
    "plt.imshow(np.sqrt(ref_map), origin=\"lower\", cmap=\"stereocor2\")\n",
    "plt.show()"
   ]
  },
  {
   "cell_type": "code",
   "execution_count": null,
   "metadata": {},
   "outputs": [],
   "source": [
    "f = fnames_a[42]\n",
    "print(f)\n",
    "\n",
    "m = Map(f)\n",
    "\n",
    "pixel_coords = all_coordinates_from_map(m)\n",
    "solar_center = SkyCoord(0*u.deg, 0*u.deg, frame=m.coordinate_frame)\n",
    "pixel_radii = np.sqrt((pixel_coords.Tx-solar_center.Tx)**2 +\n",
    "                      (pixel_coords.Ty-solar_center.Ty)**2)\n",
    "# r2 masking\n",
    "mask = 1 - ((pixel_radii / pixel_radii.max()) ** 2)*0.5\n",
    "mask = mask.value\n",
    "mask[pixel_radii.value >= 0.9 * pixel_coords.Tx.max().value] = np.nan"
   ]
  },
  {
   "cell_type": "code",
   "execution_count": null,
   "metadata": {},
   "outputs": [],
   "source": [
    "#m = Map(np.log(m.data / m.exposure_time.value / mask), m.meta)\n",
    "#m.plot(norm=Normalize())\n",
    "\n",
    "#data = np.log( (m.data - ref_map.data) / m.exposure_time.value / mask) # 6, 7\n",
    "data = ( (m.data - ref_map)  / mask) # 20, 45 # /m.exposure_time.value\n",
    "plt.imshow(data, origin=\"lower\", cmap=\"stereocor2\", vmin=0, vmax=300) # mirror to m.plot\n",
    "\n",
    "plt.show()\n",
    "\n",
    "print(np.nanmin(data), np.nanmax(data), data.min(), data.max())"
   ]
  },
  {
   "cell_type": "code",
   "execution_count": null,
   "metadata": {},
   "outputs": [],
   "source": [
    "plt.imshow(mask)\n",
    "plt.colorbar()\n",
    "plt.show()"
   ]
  },
  {
   "cell_type": "code",
   "execution_count": null,
   "metadata": {},
   "outputs": [],
   "source": [
    "m.data.min(), m.data.max(), m.exposure_time"
   ]
  },
  {
   "cell_type": "markdown",
   "metadata": {},
   "source": [
    "### Generate video"
   ]
  },
  {
   "cell_type": "markdown",
   "metadata": {},
   "source": [
    "https://github.com/FrontierDevelopmentLab/2023-europe-space-weather/blob/ground/sunerf/evaluation/video_cme.py"
   ]
  },
  {
   "cell_type": "code",
   "execution_count": null,
   "metadata": {},
   "outputs": [],
   "source": [
    "base_path='/mnt/onboard_data/visualization/cme_video_1'"
   ]
  },
  {
   "cell_type": "code",
   "execution_count": null,
   "metadata": {},
   "outputs": [],
   "source": [
    "angles = []; observatories=[]\n",
    "for f in tqdm(fnames_a[:4]):\n",
    "    header = fits.getheader(f)\n",
    "    angle = header['CROTA']\n",
    "    obs = header['OBSRVTRY']\n",
    "    angles.append(angle)\n",
    "    observatories.append(obs)"
   ]
  },
  {
   "cell_type": "code",
   "execution_count": null,
   "metadata": {},
   "outputs": [],
   "source": [
    "fits.getheader(fnames_a[0])"
   ]
  },
  {
   "cell_type": "code",
   "execution_count": null,
   "metadata": {},
   "outputs": [],
   "source": [
    "fits.getheader(fnames_a[1])"
   ]
  },
  {
   "cell_type": "code",
   "execution_count": null,
   "metadata": {},
   "outputs": [],
   "source": [
    "print(np.min(angles))\n",
    "print(np.max(angles))"
   ]
  },
  {
   "cell_type": "code",
   "execution_count": null,
   "metadata": {},
   "outputs": [],
   "source": [
    "print(np.unique(observatories))"
   ]
  },
  {
   "cell_type": "code",
   "execution_count": null,
   "metadata": {},
   "outputs": [],
   "source": [
    "exp_size = 2216\n",
    "req_polars = [0, 120, 240]\n",
    "for i in range(0,len(req_polars)):\n",
    "    req_polar = req_polars[i]\n",
    "    path_polar = base_path + '/'+str(req_polar)\n",
    "    ref_map = generate_ref_data(fnames_a, req_polar)\n",
    "    if not os.path.exists(path_polar):\n",
    "        os.makedirs(path_polar)\n",
    "    warnings.simplefilter('ignore')\n",
    "    for f in tqdm(fnames_a):\n",
    "        m = Map(f)\n",
    "        angle = m.meta['POLAR']\n",
    "        if angle == req_polar:\n",
    "            pitch = m.meta['SC_PITCH']\n",
    "            yaw = m.meta['SC_YAW'] \n",
    "            #m = m0.rotate()#angle=angle*u.deg)#,recenter=True) # CROTA\n",
    "\n",
    "            pixel_coords = all_coordinates_from_map(m)\n",
    "            solar_center = SkyCoord(0*u.deg, 0*u.deg, frame=m.coordinate_frame)\n",
    "            pixel_radii = np.sqrt((pixel_coords.Tx-solar_center.Tx)**2 +\n",
    "                                (pixel_coords.Ty-solar_center.Ty)**2)\n",
    "            # r2 masking\n",
    "            mask = 1 - ((pixel_radii / pixel_radii.max()) ** 2)*0.5\n",
    "            mask = mask.value\n",
    "            mask[pixel_radii.value >= 0.9 * pixel_coords.Tx.max().value] = np.nan\n",
    "\n",
    "\n",
    "    \n",
    "            #data = np.log(m.data)\n",
    "            #data = np.nan_to_num(data, nan=10, neginf=10)\n",
    "            data =((m.data/m.exposure_time.value)-ref_map)/ mask\n",
    "            print(np.nanmin(data), np.nanmax(data))\n",
    "            print('ploar: ' + str(angle))\n",
    "            print('pitch: '+ str(pitch))\n",
    "            print('yaw: '+ str(yaw))\n",
    "        # data = ( (d - ref_map)  / maski) # 20, 45 # /m.exposure_time.value\n",
    "\n",
    "            #plt.figure(figsize=(4, 4))\n",
    "            plt.imshow(data, origin=\"lower\", cmap=\"stereocor2\", vmin=0,vmax=20) # mirror to m.plot\n",
    "\n",
    "            plt.savefig(os.path.join(path_polar, 'cor2sa_' + os.path.basename(f).replace('.fts', '.jpg')), dpi=100)\n",
    "            plt.close()\n",
    "    \n",
    "    video_path = path_polar\n",
    "\n",
    "    video_name = os.path.join(video_path, 'video_'+str(req_polar)+'.mp4')\n",
    "\n",
    "    images = sorted(glob(os.path.join(video_path, '*.jpg')))\n",
    "    frame = cv2.imread(images[0])\n",
    "    height, width, layers = frame.shape\n",
    "\n",
    "    fourcc = cv2.VideoWriter_fourcc(*'mp4v')\n",
    "    video = cv2.VideoWriter(video_name, fourcc, 10, (width,height)) # can reduce frames per second here\n",
    "\n",
    "    for image in images:\n",
    "        video.write(cv2.imread(image))\n",
    "\n",
    "    cv2.destroyAllWindows()\n",
    "    video.release()"
   ]
  },
  {
   "cell_type": "code",
   "execution_count": null,
   "metadata": {},
   "outputs": [],
   "source": [
    "def fgenerate_video(video_path, video_name, framerate=10):\n",
    "    \"\"\"\n",
    "    warning: if no write permissions it still pretends to work\n",
    "    \"\"\"    \n",
    "    images = sorted(glob(os.path.join(video_path, '*.jpg')))\n",
    "    print(images)\n",
    "    frame = cv2.imread(images[0])\n",
    "    height, width, layers = frame.shape\n",
    "\n",
    "    fourcc = cv2.VideoWriter_fourcc(*'mp4v')\n",
    "    video = cv2.VideoWriter(video_name, fourcc, framerate, (width,height)) # can reduce frames per second here\n",
    "\n",
    "    for image in images:\n",
    "        video.write(cv2.imread(image))\n",
    "\n",
    "    cv2.destroyAllWindows()\n",
    "    video.release()"
   ]
  },
  {
   "cell_type": "code",
   "execution_count": null,
   "metadata": {},
   "outputs": [],
   "source": [
    "base_path"
   ]
  },
  {
   "cell_type": "code",
   "execution_count": null,
   "metadata": {},
   "outputs": [],
   "source": [
    "req_polars = [0, 120, 240]\n",
    "for i in range(0,len(req_polars)):\n",
    "    req_polar = req_polars[i]\n",
    "    path_polar = base_path + str(req_polar)\n",
    "\n",
    "    video_path = path_polar\n",
    "    video_name = os.path.join(video_path, 'video_'+str(req_polar)+'.mp4')\n",
    "\n",
    "    fgenerate_video(video_path, video_name, framerate=5)"
   ]
  },
  {
   "cell_type": "code",
   "execution_count": null,
   "metadata": {},
   "outputs": [],
   "source": [
    "plt.close()\n",
    "data =((m.data/m.exposure_time.value)-ref_map)/ mask\n",
    "m_norm = m.data/m.exposure_time.value\n",
    "plt.imshow(data, origin=\"lower\", cmap=\"stereocor2\", vmin=0,vmax=20) \n",
    "print(np.nanmin(data))\n",
    "print(np.nanmax(data))"
   ]
  },
  {
   "cell_type": "code",
   "execution_count": null,
   "metadata": {},
   "outputs": [],
   "source": [
    "plt.imshow(m_norm-ref_map, origin=\"lower\")#, cmap=\"stereocor2\")#, vmin=-300,vmax=300) \n",
    "print(np.nanmin(m_norm-ref_map))\n",
    "print(np.nanmax(m_norm-ref_map))"
   ]
  },
  {
   "cell_type": "code",
   "execution_count": null,
   "metadata": {},
   "outputs": [],
   "source": [
    "plt.imshow(ref_map)"
   ]
  },
  {
   "cell_type": "code",
   "execution_count": null,
   "metadata": {},
   "outputs": [],
   "source": [
    "i"
   ]
  },
  {
   "cell_type": "code",
   "execution_count": null,
   "metadata": {},
   "outputs": [],
   "source": [
    "test_img = cv2.imread( os.path.join(base_path, \"cor2sa_20140222_150915_n4c2a.jpg\") )\n",
    "# img_rgb = cv2.cvtColor(img_bgr, cv2.COLOR_BGR2RGB)\n",
    "test_img = test_img[...,::-1] # reverse red and blue channels\n",
    "#plt.close()\n",
    "plt.imshow(test_img)\n",
    "plt.axis('off')\n",
    "plt.show()"
   ]
  },
  {
   "cell_type": "code",
   "execution_count": null,
   "metadata": {},
   "outputs": [],
   "source": [
    "video_path = path_polar\n",
    "\n",
    "video_name = os.path.join(video_path, 'video_'+str(req_polar)+'.mp4')\n",
    "\n",
    "images = sorted(glob(os.path.join(video_path, '*.jpg')))\n",
    "frame = cv2.imread(images[0])\n",
    "height, width, layers = frame.shape\n",
    "\n",
    "fourcc = cv2.VideoWriter_fourcc(*'mp4v')\n",
    "video = cv2.VideoWriter(video_name, fourcc, 10, (width,height))\n",
    "\n",
    "for image in images:\n",
    "    video.write(cv2.imread(image))\n",
    "\n",
    "cv2.destroyAllWindows()\n",
    "video.release()"
   ]
  },
  {
   "cell_type": "code",
   "execution_count": null,
   "metadata": {},
   "outputs": [],
   "source": [
    "images"
   ]
  },
  {
   "cell_type": "markdown",
   "metadata": {},
   "source": [
    "### Get 3D tensor from sequence"
   ]
  },
  {
   "cell_type": "markdown",
   "metadata": {},
   "source": [
    "3D array of pixel values and timesteps [x, y, t]"
   ]
  },
  {
   "cell_type": "code",
   "execution_count": null,
   "metadata": {},
   "outputs": [],
   "source": [
    "def fget_seq_tensor(fnames):\n",
    "    \"\"\"\n",
    "    # given sequence (list of filenames)\n",
    "    # extract time (from filename or from meta)\n",
    "    # extract pixels\n",
    "    # combine in 3d tensor\n",
    "    \"\"\"\n",
    "    pixels = []\n",
    "    obs_ts = [] # tensors can't be strings\n",
    "\n",
    "    for f in tqdm(fnames):\n",
    "        m = Map(f)\n",
    "\n",
    "        data = m.data # (np.log(data) - v_min) / (v_max - v_min)\n",
    "        data = data.astype(np.float32)\n",
    "        t = m.date.datetime #meta[\"date-obs\"]\n",
    "        pixels.append(data)\n",
    "        obs_ts.append(t)\n",
    "    return pixels, obs_ts"
   ]
  },
  {
   "cell_type": "code",
   "execution_count": null,
   "metadata": {},
   "outputs": [],
   "source": [
    "fnames = sorted(fnames_a)[:4]\n",
    "pixels, obs_t = fget_seq_tensor(fnames)"
   ]
  },
  {
   "cell_type": "code",
   "execution_count": null,
   "metadata": {},
   "outputs": [],
   "source": [
    "import torch"
   ]
  },
  {
   "cell_type": "code",
   "execution_count": null,
   "metadata": {},
   "outputs": [],
   "source": [
    "torch.stack(pixels)"
   ]
  },
  {
   "cell_type": "code",
   "execution_count": null,
   "metadata": {},
   "outputs": [],
   "source": [
    "pixels[0]"
   ]
  },
  {
   "cell_type": "code",
   "execution_count": null,
   "metadata": {},
   "outputs": [],
   "source": [
    "pixels[0].shape"
   ]
  },
  {
   "cell_type": "code",
   "execution_count": null,
   "metadata": {},
   "outputs": [],
   "source": [
    "pixels[0][0]"
   ]
  },
  {
   "cell_type": "code",
   "execution_count": null,
   "metadata": {},
   "outputs": [],
   "source": [
    "pixels[0][1]"
   ]
  },
  {
   "cell_type": "code",
   "execution_count": null,
   "metadata": {},
   "outputs": [],
   "source": [
    "pixels[0][0][2]"
   ]
  }
 ],
 "metadata": {
  "kernelspec": {
   "display_name": "onboard",
   "language": "python",
   "name": "python3"
  },
  "language_info": {
   "codemirror_mode": {
    "name": "ipython",
    "version": 3
   },
   "file_extension": ".py",
   "mimetype": "text/x-python",
   "name": "python",
   "nbconvert_exporter": "python",
   "pygments_lexer": "ipython3"
  }
 },
 "nbformat": 4,
 "nbformat_minor": 2
}
