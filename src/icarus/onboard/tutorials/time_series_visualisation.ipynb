{
 "cells": [
  {
   "cell_type": "code",
   "execution_count": null,
   "metadata": {},
   "outputs": [],
   "source": [
    "import astropy\n",
    "import astropy.io.fits as fits\n",
    "import matplotlib.pyplot as plt\n",
    "import os\n",
    "from pathlib import Path\n",
    "from glob import glob\n",
    "import re\n",
    "import logging\n",
    "from rich.progress import Progress\n",
    "import numpy as np\n",
    "from sunpy.map import Map\n",
    "import pandas as pd\n",
    "from datetime import datetime, date, timedelta\n",
    "import sscws\n",
    "from sunpy.net import Fido, attrs as a\n",
    "from functools import reduce\n",
    "\n",
    "from matplotlib.colors import LogNorm, PowerNorm, Normalize\n",
    "#from tqdm.notebook import tqdm\n",
    "from tqdm import tqdm\n",
    "\n",
    "import warnings\n",
    "import cv2 # pip install opencv-python\n",
    "\n",
    "from sunpy.map.maputils import all_coordinates_from_map\n",
    "import astropy.units as u\n",
    "from astropy.coordinates import SkyCoord"
   ]
  },
  {
   "cell_type": "code",
   "execution_count": null,
   "metadata": {},
   "outputs": [],
   "source": [
    "base_path = '/mnt/onboard_data/visualization/cme_video'\n",
    "os.makedirs(base_path, exist_ok=True)"
   ]
  },
  {
   "cell_type": "code",
   "execution_count": null,
   "metadata": {},
   "outputs": [],
   "source": [
    "fnames_a = sorted(glob(\"/mnt/onboard_data/data/cor2/20140222_*_n*a.fts\"))\n",
    "fnames_b = sorted(glob(\"/mnt/onboard_data/data/cor2/20140222_*_n*b.fts\"))\n",
    "\n",
    "print(len(fnames_a), len(fnames_b))"
   ]
  },
  {
   "cell_type": "code",
   "execution_count": null,
   "metadata": {},
   "outputs": [],
   "source": [
    "warnings.simplefilter('ignore')\n",
    "for f in tqdm(fnames_a):\n",
    "    # plot map to jpg\n",
    "    m = Map(f)\n",
    "    m = Map(np.log(m.data / m.exposure_time.value), m.meta)\n",
    "    #print('VALUE RANGE', m.data.min(), m.data.max())\n",
    "    #print(m.exposure_time)\n",
    "    plt.figure(figsize=(4, 4))\n",
    "    m.plot(norm=Normalize(vmin=4, vmax=7))\n",
    "    plt.savefig(os.path.join(base_path, 'cor2sa_' + os.path.basename(f).replace('.fts', '.jpg')), dpi=100)\n",
    "    plt.close()"
   ]
  },
  {
   "cell_type": "code",
   "execution_count": null,
   "metadata": {},
   "outputs": [],
   "source": [
    "f = fnames_a[1]\n",
    "\n",
    "ref_data = []\n",
    "for i in range(1, 21):\n",
    "    m = Map(fnames_a[i])\n",
    "    ref_data.append( m.data ) #/ m.exposure_time.value )\n",
    "\n",
    "ref_map = np.mean(ref_data, axis=0)\n",
    "ref_map"
   ]
  },
  {
   "cell_type": "code",
   "execution_count": null,
   "metadata": {},
   "outputs": [],
   "source": [
    "plt.imshow(np.sqrt(ref_map), origin=\"lower\", cmap=\"stereocor2\")\n",
    "plt.show()"
   ]
  },
  {
   "cell_type": "code",
   "execution_count": null,
   "metadata": {},
   "outputs": [],
   "source": [
    "f = fnames_a[42]\n",
    "print(f)\n",
    "\n",
    "m = Map(f)\n",
    "\n",
    "pixel_coords = all_coordinates_from_map(m)\n",
    "solar_center = SkyCoord(0*u.deg, 0*u.deg, frame=m.coordinate_frame)\n",
    "pixel_radii = np.sqrt((pixel_coords.Tx-solar_center.Tx)**2 +\n",
    "                      (pixel_coords.Ty-solar_center.Ty)**2)\n",
    "# r2 masking\n",
    "mask = 1 - ((pixel_radii / pixel_radii.max()) ** 2)*0.5\n",
    "mask = mask.value\n",
    "mask[pixel_radii.value >= 0.9 * pixel_coords.Tx.max().value] = np.nan"
   ]
  },
  {
   "cell_type": "code",
   "execution_count": null,
   "metadata": {},
   "outputs": [],
   "source": [
    "#m = Map(np.log(m.data / m.exposure_time.value / mask), m.meta)\n",
    "#m.plot(norm=Normalize())\n",
    "\n",
    "#data = np.log( (m.data - ref_map.data) / m.exposure_time.value / mask) # 6, 7\n",
    "data = ( (m.data - ref_map)  / mask) # 20, 45 # /m.exposure_time.value\n",
    "plt.imshow(data, origin=\"lower\", cmap=\"stereocor2\", vmin=0, vmax=300) # mirror to m.plot\n",
    "\n",
    "plt.show()\n",
    "\n",
    "print(np.nanmin(data), np.nanmax(data), data.min(), data.max())"
   ]
  },
  {
   "cell_type": "code",
   "execution_count": null,
   "metadata": {},
   "outputs": [],
   "source": [
    "plt.imshow(mask)\n",
    "plt.colorbar()\n",
    "plt.show()"
   ]
  },
  {
   "cell_type": "code",
   "execution_count": null,
   "metadata": {},
   "outputs": [],
   "source": [
    "m.data.min(), m.data.max(), m.exposure_time"
   ]
  },
  {
   "cell_type": "markdown",
   "metadata": {},
   "source": [
    "### Generate video"
   ]
  },
  {
   "cell_type": "markdown",
   "metadata": {},
   "source": [
    "https://github.com/FrontierDevelopmentLab/2023-europe-space-weather/blob/ground/sunerf/evaluation/video_cme.py"
   ]
  },
  {
   "cell_type": "code",
   "execution_count": null,
   "metadata": {},
   "outputs": [],
   "source": [
    "base_path"
   ]
  },
  {
   "cell_type": "code",
   "execution_count": null,
   "metadata": {},
   "outputs": [],
   "source": [
    "fnames_a"
   ]
  },
  {
   "cell_type": "code",
   "execution_count": null,
   "metadata": {},
   "outputs": [],
   "source": [
    "warnings.simplefilter('ignore')\n",
    "for f in tqdm(fnames_a):\n",
    "    m = Map(f)\n",
    "\n",
    "    pixel_coords = all_coordinates_from_map(m)\n",
    "    solar_center = SkyCoord(0*u.deg, 0*u.deg, frame=m.coordinate_frame)\n",
    "    pixel_radii = np.sqrt((pixel_coords.Tx-solar_center.Tx)**2 +\n",
    "                        (pixel_coords.Ty-solar_center.Ty)**2)\n",
    "    # r2 masking\n",
    "    mask = 1 - ((pixel_radii / pixel_radii.max()) ** 2)*0.5\n",
    "    mask = mask.value\n",
    "    mask[pixel_radii.value >= 0.9 * pixel_coords.Tx.max().value] = np.nan\n",
    "\n",
    "    data = ( (m.data - ref_map)  / mask) # 20, 45 # /m.exposure_time.value\n",
    "\n",
    "    #plt.figure(figsize=(4, 4))\n",
    "    plt.imshow(data, origin=\"lower\", cmap=\"stereocor2\", vmin=0, vmax=300) # mirror to m.plot\n",
    "    plt.savefig(os.path.join(base_path, 'cor2sa_' + os.path.basename(f).replace('.fts', '.jpg')), dpi=100)\n",
    "    plt.close()"
   ]
  },
  {
   "cell_type": "code",
   "execution_count": null,
   "metadata": {},
   "outputs": [],
   "source": [
    "test_img = cv2.imread( os.path.join(base_path, \"cor2sa_20140222_150915_n4c2a.jpg\") )\n",
    "# img_rgb = cv2.cvtColor(img_bgr, cv2.COLOR_BGR2RGB)\n",
    "test_img = test_img[...,::-1] # reverse red and blue channels\n",
    "plt.imshow(test_img)\n",
    "#plt.show()"
   ]
  },
  {
   "cell_type": "code",
   "execution_count": null,
   "metadata": {},
   "outputs": [],
   "source": [
    "video_path = base_path\n",
    "\n",
    "video_name = os.path.join(video_path, 'video.mp4')\n",
    "\n",
    "images = sorted(glob(os.path.join(video_path, '*.jpg')))\n",
    "frame = cv2.imread(images[0])\n",
    "height, width, layers = frame.shape\n",
    "\n",
    "fourcc = cv2.VideoWriter_fourcc(*'mp4v')\n",
    "video = cv2.VideoWriter(video_name, fourcc, 10, (width,height))\n",
    "\n",
    "for image in images:\n",
    "    video.write(cv2.imread(image))\n",
    "\n",
    "cv2.destroyAllWindows()\n",
    "video.release()"
   ]
  }
 ],
 "metadata": {
  "kernelspec": {
   "display_name": "onboard",
   "language": "python",
   "name": "python3"
  },
  "language_info": {
   "codemirror_mode": {
    "name": "ipython",
    "version": 3
   },
   "file_extension": ".py",
   "mimetype": "text/x-python",
   "name": "python",
   "nbconvert_exporter": "python",
   "pygments_lexer": "ipython3"
  }
 },
 "nbformat": 4,
 "nbformat_minor": 2
}
