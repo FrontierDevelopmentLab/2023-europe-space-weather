{
 "cells": [
  {
   "cell_type": "code",
   "execution_count": null,
   "metadata": {},
   "outputs": [],
   "source": [
    "import astropy\n",
    "import astropy.io.fits as fits\n",
    "import matplotlib.pyplot as plt\n",
    "import os\n",
    "from pathlib import Path\n",
    "from glob import glob\n",
    "import re\n",
    "import logging\n",
    "from rich.progress import Progress\n",
    "import numpy as np\n",
    "from sunpy.map import Map\n",
    "import pandas as pd\n",
    "from datetime import datetime, date, timedelta\n",
    "import sscws\n",
    "from sunpy.net import Fido, attrs as a\n",
    "from functools import reduce\n",
    "\n",
    "from matplotlib.colors import LogNorm, PowerNorm, Normalize\n",
    "#from tqdm.notebook import tqdm\n",
    "from tqdm import tqdm\n",
    "\n",
    "import warnings\n",
    "\n",
    "from sunpy.map.maputils import all_coordinates_from_map\n",
    "import astropy.units as u\n",
    "from astropy.coordinates import SkyCoord"
   ]
  },
  {
   "cell_type": "code",
   "execution_count": null,
   "metadata": {},
   "outputs": [],
   "source": [
    "base_path = '/mnt/onboard_data/visualization/cme_video'\n",
    "os.makedirs(base_path, exist_ok=True)"
   ]
  },
  {
   "cell_type": "code",
   "execution_count": null,
   "metadata": {},
   "outputs": [],
   "source": [
    "fnames_a = sorted(glob(\"/mnt/onboard_data/data/cor2/20140222_*_n*a.fts\"))\n",
    "fnames_b = sorted(glob(\"/mnt/onboard_data/data/cor2/20140222_*_n*b.fts\"))\n",
    "\n",
    "print(len(fnames_a), len(fnames_b))"
   ]
  },
  {
   "cell_type": "code",
   "execution_count": null,
   "metadata": {},
   "outputs": [],
   "source": [
    "warnings.simplefilter('ignore')\n",
    "for f in tqdm(fnames_a):\n",
    "    # plot map to jpg\n",
    "    m = Map(f)\n",
    "    m = Map(np.log(m.data / m.exposure_time.value), m.meta)\n",
    "    #print('VALUE RANGE', m.data.min(), m.data.max())\n",
    "    #print(m.exposure_time)\n",
    "    plt.figure(figsize=(4, 4))\n",
    "    m.plot(norm=Normalize(vmin=4, vmax=7))\n",
    "    plt.savefig(os.path.join(base_path, 'cor2sa_' + os.path.basename(f).replace('.fts', '.jpg')), dpi=100)\n",
    "    plt.close()"
   ]
  },
  {
   "cell_type": "code",
   "execution_count": null,
   "metadata": {},
   "outputs": [],
   "source": [
    "f = fnames_a[50]\n",
    "print(f)\n",
    "\n",
    "m = Map(f)\n",
    "\n",
    "pixel_coords = all_coordinates_from_map(m)\n",
    "solar_center = SkyCoord(0*u.deg, 0*u.deg, frame=m.coordinate_frame)\n",
    "pixel_radii = np.sqrt((pixel_coords.Tx-solar_center.Tx)**2 +\n",
    "                      (pixel_coords.Ty-solar_center.Ty)**2)\n",
    "# r2 masking\n",
    "mask = 1 - (pixel_radii / pixel_radii.max()) ** 2\n",
    "mask = mask.value\n",
    "mask[pixel_radii.value >= 0.9 * pixel_coords.Tx.max().value] = np.nan\n",
    "\n",
    "m = Map(np.log(m.data / m.exposure_time.value / mask), m.meta)\n",
    "m.plot(norm=Normalize())\n",
    "plt.show()\n",
    "\n",
    "print(m.data.min(), m.data.max())"
   ]
  },
  {
   "cell_type": "code",
   "execution_count": null,
   "metadata": {},
   "outputs": [],
   "source": [
    "plt.imshow(mask)\n",
    "plt.colorbar()\n",
    "plt.show()"
   ]
  },
  {
   "cell_type": "code",
   "execution_count": null,
   "metadata": {},
   "outputs": [],
   "source": [
    "m.data.min(), m.data.max(), m.exposure_time"
   ]
  }
 ],
 "metadata": {
  "kernelspec": {
   "display_name": "onboard",
   "language": "python",
   "name": "python3"
  },
  "language_info": {
   "codemirror_mode": {
    "name": "ipython",
    "version": 3
   },
   "file_extension": ".py",
   "mimetype": "text/x-python",
   "name": "python",
   "nbconvert_exporter": "python",
   "pygments_lexer": "ipython3"
  }
 },
 "nbformat": 4,
 "nbformat_minor": 2
}
