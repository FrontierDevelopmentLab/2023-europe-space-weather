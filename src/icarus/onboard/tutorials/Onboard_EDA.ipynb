{
 "cells": [
  {
   "cell_type": "code",
   "execution_count": null,
   "id": "c4cfa924-0be7-4b02-889c-3a9d11454180",
   "metadata": {},
   "outputs": [],
   "source": [
    "import astropy\n",
    "import astropy.io.fits as fits\n",
    "import matplotlib.pyplot as plt\n",
    "import os\n",
    "from pathlib import Path\n",
    "from glob import glob\n",
    "import re\n",
    "import logging\n",
    "from rich.progress import Progress\n",
    "import numpy as np\n",
    "import sunpy\n",
    "import pandas as pd\n",
    "from datetime import datetime, date, timedelta\n",
    "import sscws\n",
    "from sunpy.net import Fido, attrs as a\n",
    "from functools import reduce"
   ]
  },
  {
   "cell_type": "code",
   "execution_count": null,
   "id": "5afdca76-56b3-4277-889e-c93d77f1c0f0",
   "metadata": {},
   "outputs": [],
   "source": [
    "fname_HAO = []#glob(\"fdl_space_weather_data/HAO_data/data_fits/*/*.fits\")\n",
    "fname_stereo = glob(\"ssa_live_twin_development_data/*/*.fts\")\n",
    "\n",
    "fnames = fname_HAO + fname_stereo\n",
    "print(len(fnames))"
   ]
  },
  {
   "cell_type": "code",
   "execution_count": null,
   "id": "1a75a16a-b033-4a04-8fdb-855c0d3c90ff",
   "metadata": {},
   "outputs": [],
   "source": [
    "broken_files = []\n",
    "with Progress() as progress:\n",
    "    task = progress.add_task(\"Plotting Stereo Data\", total = len(fnames))\n",
    "    for fname in fnames:\n",
    "        plt.close(\"all\")\n",
    "        path_components_fname = fname.split(\"/\")[:-1]\n",
    "        path_components = [\"plots\"]\n",
    "        path_components = path_components + path_components_fname\n",
    "        joined_path = os.path.join(*path_components)\n",
    "        if not os.path.exists(joined_path):\n",
    "            os.makedirs(joined_path)\n",
    "        try:\n",
    "            plotname = joined_path +\"/beacon_substitute_\"+ fname.split(\"/\")[-1].split(\".\")[0]+\".jpg\"\n",
    "            img_data = fits.getdata(fname)\n",
    "            plt.imshow(img_data,cmap = \"gray\")\n",
    "            plt.title(\"Beacon Substitute: \"+fname.split(\"/\")[-1].split(\".\")[0])\n",
    "            plt.savefig(plotname)\n",
    "        except Exception as e:\n",
    "            logging.warning(\"Error: {} - File {}! Check manually\".format(e,fname))\n",
    "            broken_files.append(fname)\n",
    "        progress.update(task,advance = 1)\n"
   ]
  },
  {
   "cell_type": "code",
   "execution_count": null,
   "id": "63e40f5d-c7e5-4bcc-9d77-10f464c0eef5",
   "metadata": {},
   "outputs": [],
   "source": [
    "fname_part =fname.split(\"/\")[-1].split(\".\")[0]"
   ]
  },
  {
   "cell_type": "code",
   "execution_count": null,
   "id": "6c69f0c6-6c50-4891-9f29-4cd591ebf98c",
   "metadata": {},
   "outputs": [],
   "source": [
    "png_name = 'plots/ssa_live_twin_development_data/cor2/secchi_l0_b_img_cor2_20120307_20120307_022400_d4c2b.png'"
   ]
  },
  {
   "cell_type": "code",
   "execution_count": null,
   "id": "52772031-d83e-4aa3-8c88-f67b31e9997e",
   "metadata": {},
   "outputs": [],
   "source": [
    "png_jpg_size_ratio = os.stat(png_name).st_size/os.stat(plotname).st_size \n",
    "# Irrelevant, going up against the ICER algorithm for beacon data..."
   ]
  },
  {
   "cell_type": "markdown",
   "id": "d14da4ea-4a35-4f6a-9d92-b4bd20edd28d",
   "metadata": {},
   "source": [
    "## Set up Satellite Position Data"
   ]
  },
  {
   "cell_type": "code",
   "execution_count": null,
   "id": "1d498263-e089-452f-ab8c-fd4e1ca4d96a",
   "metadata": {},
   "outputs": [],
   "source": [
    "# Ephemeris Files for wanted objects\n",
    "l5_positions_fname = \"L5_positions_ephemeris.txt\"\n",
    "stereoA_positions_fname = \"StereoA_positions_ephemeris.txt\"\n",
    "stereoB_positions_fname = \"StereoB_positions_ephemeris.txt\"\n",
    "SOHO_positions_fname = \"SOHO_positions_ephemeris.txt\""
   ]
  },
  {
   "cell_type": "code",
   "execution_count": null,
   "id": "ec3806ca-49b7-4218-b2fe-d62a92b00a8c",
   "metadata": {},
   "outputs": [],
   "source": [
    "def load_ephemeris_data(fname:str) -> list:\n",
    "    '''\n",
    "        Loads data from horizon ephemeris files, passed as argument.\n",
    "    '''\n",
    "    with open(fname) as f:\n",
    "        data = f.readlines()\n",
    "\n",
    "    start_position = 0\n",
    "    end_position = 0\n",
    "    for i, line in enumerate(data):\n",
    "        if \"$$SOE\" in line:\n",
    "            start_position = i + 1\n",
    "        if \"$$EOE\" in line:\n",
    "            end_position = i\n",
    "            \n",
    "    return data[start_position:end_position]"
   ]
  },
  {
   "cell_type": "code",
   "execution_count": null,
   "id": "672d4a72-ae56-48ca-9bd8-66100dc61521",
   "metadata": {},
   "outputs": [],
   "source": [
    "l5_positions_data = load_ephemeris_data(l5_positions_fname)\n",
    "stereoA_positions_data = load_ephemeris_data(stereoA_positions_fname)\n",
    "stereoB_positions_data = load_ephemeris_data(stereoB_positions_fname)\n",
    "SOHO_positions_data = load_ephemeris_data(SOHO_positions_fname)"
   ]
  },
  {
   "cell_type": "code",
   "execution_count": null,
   "id": "942083c1-d539-47b2-b8c9-f0406ddcedae",
   "metadata": {},
   "outputs": [],
   "source": [
    "\n",
    "\n",
    "def data_to_vectors(data,Time:list = None):\n",
    "    '''\n",
    "        Takes the data returned by the load_data function and turns it into the required vectors\n",
    "    '''\n",
    "    time = Time if Time is not None else []\n",
    "    x = []\n",
    "    y = []\n",
    "    z = []\n",
    "    r = []\n",
    "    \n",
    "    for line in data:\n",
    "        t,p = line.strip(\"\\n\").split(\"     \")\n",
    "        t2 = t.split(\" \")[1] + \" \" + t.split(\" \")[2]\n",
    "        if Time is not None:\n",
    "            assert datetime.strptime(sa_time2,\"%Y-%b-%d %H:%M\") in Time,\"New Time found in line {}\".format(line)\n",
    "        else:\n",
    "            time.append(datetime.strptime(t2,\"%Y-%b-%d %H:%M\"))\n",
    "        space_split = [i for i in p.split(\" \") if i != \"\"]\n",
    "        RA = float(space_split[0])*np.pi/180 # Radian for numpy\n",
    "        DEC = float(space_split[1])*np.pi/180 # Radian for numpy\n",
    "        \n",
    "        cr = float(space_split[2]) # in km\n",
    "        #dont use rdot here\n",
    "        cx = cr*np.cos(DEC)*np.cos(RA*np.cos(DEC)) # km\n",
    "        cy = cr*np.cos(DEC)*np.sin(RA*np.cos(DEC)) # km\n",
    "        cz = cr*np.sin(DEC) # km\n",
    "        \n",
    "        x.append(cx)\n",
    "        y.append(cy)\n",
    "        z.append(cz)\n",
    "        r.append(cr)\n",
    "    return time, x,y,z,r\n",
    "        \n",
    "Time,L5x,L5y,L5z,L5r = data_to_vectors(l5_positions_data)\n",
    "_,SAx,SAy,SAz,SAr = data_to_vectors(stereoA_positions_data,Time)\n",
    "_,SBx,SBy,SBz,SBr = data_to_vectors(stereoB_positions_data,Time)\n",
    "_,Sohox,Sohoy,Sohoz,Sohor = data_to_vectors(SOHO_positions_data, Time)\n"
   ]
  },
  {
   "cell_type": "code",
   "execution_count": null,
   "id": "a487700e-75c9-411f-ab68-d0ad448d0419",
   "metadata": {},
   "outputs": [],
   "source": [
    "initial_colnames = [\"L5 x [km]\",\"L5 y [km]\",\"L5 z [km]\",\"L5 r [km]\",\"SA x [km]\",\"SA y [km]\",\"SA z [km]\",\"SA r [km]\",\"SB x [km]\",\"SB y [km]\",\"SB z [km]\",\"SB r [km]\", \"SOHO x [km]\",\"SOHO y [km]\",\"SOHO z [km]\", \"SOHO r [km]\"]\n",
    "initial_data = (np.asarray([L5x,L5y,L5z,L5r,SAx,SAy,SAz,SAr,SBx,SBy,SBz,SBr,Sohox,Sohoy,Sohoz,Sohor])).T\n",
    "\n",
    "df = pd.DataFrame(initial_data,index = Time, columns = initial_colnames)\n",
    "df.head()\n",
    "df[\"Distance L5 Stereo A [km]\"] = np.sqrt((df[\"L5 x [km]\"] - df[\"SA x [km]\"])**2+(df[\"L5 y [km]\"] - df[\"SA y [km]\"])**2+(df[\"L5 z [km]\"] - df[\"SA z [km]\"])**2)\n",
    "df[\"Distance L5 Stereo B [km]\"] = np.sqrt((df[\"L5 x [km]\"] - df[\"SB x [km]\"])**2+(df[\"L5 y [km]\"] - df[\"SB y [km]\"])**2+(df[\"L5 z [km]\"] - df[\"SB z [km]\"])**2)                                           \n",
    "df[\"Stereo AB Angle [deg]\"] = np.arccos((df[\"SA x [km]\"]*df[\"SB x [km]\"]+df[\"SA y [km]\"]*df[\"SB y [km]\"]+df[\"SA z [km]\"]*df[\"SB z [km]\"])/(df[\"SA r [km]\"]*df[\"SB r [km]\"]))*180/np.pi                                          \n",
    "df[\"Stereo A Soho Angle [deg]\"] = np.arccos((df[\"SA x [km]\"]*df[\"SOHO x [km]\"]+df[\"SA y [km]\"]*df[\"SOHO y [km]\"]+df[\"SA z [km]\"]*df[\"SOHO z [km]\"])/(df[\"SA r [km]\"]*df[\"SOHO r [km]\"]))*180/np.pi                          \n",
    "df[\"Stereo B Soho Angle [deg]\"] = np.arccos((df[\"SB x [km]\"]*df[\"SOHO x [km]\"]+df[\"SB y [km]\"]*df[\"SOHO y [km]\"]+df[\"SB z [km]\"]*df[\"SOHO z [km]\"])/(df[\"SB r [km]\"]*df[\"SOHO r [km]\"]))*180/np.pi                                              \n",
    "\n",
    "# Statistics\n",
    "df.describe()\n",
    "                                          "
   ]
  },
  {
   "cell_type": "markdown",
   "id": "926bf3b9-8abc-45e0-9846-67b5981e5140",
   "metadata": {},
   "source": [
    "### Create Plots from dataframe"
   ]
  },
  {
   "cell_type": "code",
   "execution_count": null,
   "id": "3c66d067-f88c-47ca-a088-dce30781b168",
   "metadata": {},
   "outputs": [],
   "source": [
    "# Parameters\n",
    "earth_l5_angle_degrees = 60\n",
    "error_range_degrees = 5\n",
    "required_distance_to_l5_km = 50000000 #km\n",
    "max_angle_between_crafts_deg = earth_l5_angle_degrees + error_range_degrees\n",
    "min_angle_between_crafts_deg = earth_l5_angle_degrees - error_range_degrees"
   ]
  },
  {
   "cell_type": "code",
   "execution_count": null,
   "id": "75e9401a-01e5-4b4c-8bb5-c26c31de7f9b",
   "metadata": {},
   "outputs": [],
   "source": [
    "\n",
    "\n",
    "approx_date_last_B_contact = date(2016,9,1) #some time September 2016\n",
    "\n",
    "ax = df.plot(title = \"Distance of Stereo A to L5\", xlabel = \"Year\", ylabel = \"Distance [km]\", y = \"Distance L5 Stereo A [km]\")\n",
    "ax.axhline(y = required_distance_to_l5_km, linestyle = \"-\", color = \"g\", linewidth = 2)\n",
    "plt.savefig(\"dist_a_l5.png\")\n",
    "\n",
    "ax = df.plot(title = \"Distance of Stereo B to L5\", xlabel = \"Year\", ylabel = \"Distance [km]\",y = \"Distance L5 Stereo B [km]\")\n",
    "ax.axvline(x = approx_date_last_B_contact, linestyle = \"-\", color = \"r\", linewidth = 2)\n",
    "ax.axhline(y = required_distance_to_l5_km, linestyle = \"-\", color = \"g\", linewidth = 2)\n",
    "plt.savefig(\"dist_b_l5.png\")\n",
    "\n",
    "\n",
    "ax = df.plot(title = \"Angle between Stereo A and Stereo B\",xlabel = \"Year\", ylabel = \"Angle [°]\", y = \"Stereo AB Angle [deg]\",linestyle = \":\")\n",
    "ax.axhline(y = earth_l5_angle_degrees,linestyle = \"--\", color = \"g\", linewidth = 2)\n",
    "ax.axhline(y = earth_l5_angle_degrees + error_range_degrees,linestyle = \"--\", color = \"g\", linewidth = 1, alpha = 0.5)\n",
    "ax.axhline(y = earth_l5_angle_degrees - error_range_degrees,linestyle = \"--\", color = \"g\", linewidth = 1, alpha = 0.5)\n",
    "ax.axvline(x = approx_date_last_B_contact, linestyle = \"-\", color = \"r\", linewidth = 2) \n",
    "plt.savefig(\"Angle_AB.png\")\n",
    "\n",
    "ax = df.plot(title = \"Angle between Stereo A and SOHO\",xlabel = \"Year\", ylabel = \"Angle [°]\", y = \"Stereo A Soho Angle [deg]\",linestyle = \":\")\n",
    "ax.axhline(y = earth_l5_angle_degrees,linestyle = \"--\", color = \"g\", linewidth = 2)\n",
    "ax.axhline(y = earth_l5_angle_degrees + error_range_degrees,linestyle = \"--\", color = \"g\", linewidth = 1, alpha = 0.5)\n",
    "ax.axhline(y = earth_l5_angle_degrees - error_range_degrees,linestyle = \"--\", color = \"g\", linewidth = 1, alpha = 0.5)\n",
    "ax.axvline(x = approx_date_last_B_contact, linestyle = \"-\", color = \"r\", linewidth = 2) \n",
    "plt.savefig(\"Angle_ASOHO.png\")\n",
    "\n",
    "ax = df.plot(title = \"Angle between Stereo B and SOHO\",xlabel = \"Year\", ylabel = \"Angle [°]\", y = \"Stereo B Soho Angle [deg]\",linestyle = \":\")\n",
    "ax.axhline(y = earth_l5_angle_degrees,linestyle = \"--\", color = \"g\", linewidth = 2)\n",
    "ax.axhline(y = earth_l5_angle_degrees + error_range_degrees,linestyle = \"--\", color = \"g\", linewidth = 1, alpha = 0.5)\n",
    "ax.axhline(y = earth_l5_angle_degrees - error_range_degrees,linestyle = \"--\", color = \"g\", linewidth = 1, alpha = 0.5)\n",
    "ax.axvline(x = approx_date_last_B_contact, linestyle = \"-\", color = \"r\", linewidth = 2) \n",
    "plt.savefig(\"Angle_BSOHO.png\")\n",
    "\n"
   ]
  },
  {
   "cell_type": "markdown",
   "id": "fc220c77-c22b-48f9-a462-39e46d8dbdaa",
   "metadata": {},
   "source": [
    "# Discover relevant periods based on data and L5 proximity"
   ]
  },
  {
   "cell_type": "code",
   "execution_count": null,
   "id": "92855cec-0b17-4c03-a99b-e0103b1eee61",
   "metadata": {},
   "outputs": [],
   "source": [
    "# use query\n",
    "df_angles_fit = df.query(\"`Stereo AB Angle [deg]` >= {} & `Stereo AB Angle [deg]` <= {}\".format(min_angle_between_crafts_deg,max_angle_between_crafts_deg))\n",
    "df_angles_perfect_fit = df.query(\"`Stereo AB Angle [deg]`== {}\".format(earth_l5_angle_degrees))\n",
    "df_stereoA_angles_fit = df.query(\"`Stereo A Soho Angle [deg]` >= {} & `Stereo A Soho Angle [deg]` <= {}\".format(min_angle_between_crafts_deg,max_angle_between_crafts_deg))\n",
    "df_stereoB_angles_fit = df.query(\"`Stereo B Soho Angle [deg]` >= {} & `Stereo B Soho Angle [deg]` <= {}\".format(min_angle_between_crafts_deg,max_angle_between_crafts_deg))\n",
    "\n",
    "df_StereoB_close = df.query(\"`Distance L5 Stereo B [km]` <= {}\".format(required_distance_to_l5_km))\n",
    "df_StereoA_close = df.query(\"`Distance L5 Stereo A [km]` <= {}\".format(required_distance_to_l5_km))\n",
    "\n",
    "# get times from df_{}.index\n",
    "# Main point: Do angles fit? - more important than distance for now.\n",
    "angle_AB_index = df_angles_fit.index\n",
    "angle_ASOHO_index = df_stereoA_angles_fit.index\n",
    "angle_BSOHO_index = df_stereoB_angles_fit.index\n",
    "# Overlap?\n",
    "overlap_ABASOHO = np.intersect1d(angle_AB_index,angle_ASOHO_index) #empty\n",
    "overlap_ABBSOHO = np.intersect1d(angle_AB_index,angle_BSOHO_index) #empty\n",
    "overlap_ASOHOBSOHO = np.intersect1d(angle_ASOHO_index,angle_BSOHO_index) \n",
    "# 24% of times, both angles A-SUN-SOHO, B-SUN-SOHO are within 55 to 65 degrees\n",
    "# AB and Soho are never in a 60° pairing - ie no scenario of 60° on both angles between A,B and SOHO from either one\n",
    "# in other words, never happens when either A, B are close to earth\n",
    "union_index = reduce(np.union1d,(angle_AB_index, angle_ASOHO_index, angle_BSOHO_index))\n",
    "#Need to recover consecutive groups - ie, each group only consists of elements that are no more than 1 day removed from each other.\n",
    "time_differences = union_index[1:] - union_index[:-1]"
   ]
  },
  {
   "cell_type": "code",
   "execution_count": null,
   "id": "ecbca1d8-0603-4611-90b4-c2b8ebe321c6",
   "metadata": {},
   "outputs": [],
   "source": [
    "endpoints = [-1,len(union_index)]\n",
    "for time_diff_jumps_idx,td in enumerate(time_differences):\n",
    "    if td != 86400000000000: # = 1 day in ns\n",
    "        endpoints.append(time_diff_jumps_idx)\n",
    "endpoints = np.sort(endpoints)\n",
    "#print(endpoints)\n",
    "timeseries_batches = [union_index[endpoints[i-1]+1:endpoints[i]] for i in range(1,len(endpoints))] "
   ]
  },
  {
   "cell_type": "markdown",
   "id": "727faab5-9aa4-4cdc-be52-a24259c1731e",
   "metadata": {},
   "source": [
    "# Query Data from FIDO"
   ]
  },
  {
   "cell_type": "code",
   "execution_count": null,
   "id": "473beb6c-ef90-4ff5-9805-e3275ce0a358",
   "metadata": {},
   "outputs": [],
   "source": [
    "event_type = \"CE\"\n",
    "# Can download SECCHI data with help from FIDO\n",
    "event_batches = []\n",
    "instrument_batches = []\n",
    "for batch in timeseries_batches:\n",
    "    min_time = np.min(batch)\n",
    "    max_time = np.max(batch)\n",
    "    time_requested_for_batch = a.Time(str(min_time),str(max_time))\n",
    "    resulting_events_for_batch = Fido.search(time_requested_for_batch, a.hek.EventType(event_type))\n",
    "    resulting_images_for_batch = Fido.search(time_requested_for_batch, a.Instrument(\"SECCHI\"), a.Detector(\"COR1\"))\n",
    "    instrument_batches.append(resulting_images_for_batch)\n",
    "    event_batches.append(resulting_events_for_batch)\n",
    "'''\n",
    "for batch in timeseries_batches:\n",
    "    min_time = np.min(batch)\n",
    "    max_time = np.max(batch)\n",
    "    time_requested_for_batch = a.Time(str(min_time),str(max_time))\n",
    "    resulting_events_for_batch = Fido.search(time_requested_for_batch, a.hek.EventType(event_type))\n",
    "    resulting_images_for_batch = Fido.search(time_requested_for_batch, a.Instrument.secchi, a.Level.one)\n",
    "    instrument_batches.append(resulting_images_for_batch)\n",
    "    event_batches.append(resulting_events_for_batch)\n",
    "'''\n",
    "\n",
    "#a.Level restricts query to 0 images, regardless of Level set - unsure which level the image data is from\n"
   ]
  },
  {
   "cell_type": "code",
   "execution_count": null,
   "id": "84bef5f7-5ba5-493f-bcbf-ecb87de83816",
   "metadata": {},
   "outputs": [],
   "source": [
    "instrument_batches"
   ]
  },
  {
   "cell_type": "code",
   "execution_count": null,
   "id": "14a38820-2d45-47f8-9f22-ae94ba13f874",
   "metadata": {},
   "outputs": [],
   "source": [
    "for i in range(len(event_batches)):\n",
    "    t_batch = timeseries_batches[i]\n",
    "    min_time = np.min(t_batch)\n",
    "    max_time = np.max(t_batch)\n",
    "    n_events = len(event_batches[i][\"hek\"])\n",
    "    print(\"Between {} and {}, there have been {} events logged.\".format(min_time, max_time, n_events))"
   ]
  },
  {
   "cell_type": "code",
   "execution_count": null,
   "id": "16885142-9b99-41f8-8aac-af2f9a58f687",
   "metadata": {},
   "outputs": [],
   "source": [
    "from sscws import sscws"
   ]
  },
  {
   "cell_type": "code",
   "execution_count": null,
   "id": "36ee614a-8598-440b-abc4-722ddaf5adde",
   "metadata": {},
   "outputs": [],
   "source": [
    "sscws = sscws.SscWs()"
   ]
  },
  {
   "cell_type": "code",
   "execution_count": null,
   "id": "a6081875-8778-4d39-ba80-4b1f4d542913",
   "metadata": {},
   "outputs": [],
   "source": [
    "time = [\"2022/06/01\",\"2023/07/13\"]\n",
    "locations = sscws.get_locations([\"soho\",\"sun\",\"stereoa\",\"stereob\"], time)"
   ]
  },
  {
   "cell_type": "code",
   "execution_count": null,
   "id": "d2057160-b92d-40d0-9b53-f20a74fe87c0",
   "metadata": {},
   "outputs": [],
   "source": [
    "soho_triple = [locations[\"Data\"][0][\"Coordinates\"][0][\"X\"],locations[\"Data\"][0][\"Coordinates\"][0][\"Y\"],locations[\"Data\"][0][\"Coordinates\"][0][\"Z\"]]\n",
    "sun_triple = [locations[\"Data\"][1][\"Coordinates\"][0][\"X\"],locations[\"Data\"][1][\"Coordinates\"][0][\"Y\"],locations[\"Data\"][1][\"Coordinates\"][0][\"Z\"]]\n",
    "stereoa_triple = [locations[\"Data\"][2][\"Coordinates\"][0][\"X\"],locations[\"Data\"][2][\"Coordinates\"][0][\"Y\"],locations[\"Data\"][2][\"Coordinates\"][0][\"Z\"]]\n",
    "stereob_triple = [locations[\"Data\"][3][\"Coordinates\"][0][\"X\"],locations[\"Data\"][3][\"Coordinates\"][0][\"Y\"],locations[\"Data\"][3][\"Coordinates\"][0][\"Z\"]]\n"
   ]
  },
  {
   "cell_type": "code",
   "execution_count": null,
   "id": "aadb516f-31bc-48bb-a708-2a20160fcdfc",
   "metadata": {},
   "outputs": [],
   "source": [
    "import matplotlib.pyplot as plt\n",
    "from mpl_toolkits.mplot3d import Axes3D\n"
   ]
  },
  {
   "cell_type": "code",
   "execution_count": null,
   "id": "9cfce6d8-2705-455b-82b7-ec7ea377a887",
   "metadata": {},
   "outputs": [],
   "source": [
    "fig = plt.figure()\n",
    "ax = fig.add_subplot(111, projection='3d')\n",
    "ax.view_init(elev=90, azim=0) \n",
    "\n",
    "sohox,sohoy,sohoz = [df[\"SOHO x [km]\"],df[\"SOHO y [km]\"],df[\"SOHO z [km]\"]]\n",
    "sunx,suny,sunz = [np.zeros_like(sohox),np.zeros_like(sohox),np.zeros_like(sohox)] #didnt query data, assume 0\n",
    "stereoax,stereoay,stereoaz = [df[\"SA x [km]\"],df[\"SA y [km]\"],df[\"SA z [km]\"]]\n",
    "stereobx,stereoby,stereobz = [df[\"SB x [km]\"],df[\"SB y [km]\"],df[\"SB z [km]\"]]\n",
    "\n",
    "#sohoz = np.zeros_like(stereoax)\n",
    "#sunz = np.zeros_like(sunx)\n",
    "#stereoaz = np.zeros_like(stereoax)\n",
    "#stereobz = np.zeros_like(stereobx)\n",
    "\n",
    "ax.plot(sohox,sohoy,sohoz, label = \"SOHO\")\n",
    "ax.plot(sunx,suny,sunz, label = \"Sun\")\n",
    "ax.plot(stereoax,stereoay,stereoaz, label = \"Stereo A\")\n",
    "ax.plot(stereobx,stereoby,stereobz, label = \"Stereo B\")\n",
    "\n",
    "l_sohox = sohox[-1]\n",
    "l_sohoy = sohoy[-1]\n",
    "l_sohoz = sohoz[-1]\n",
    "l_sunx = sunx[-1]\n",
    "l_suny = suny[-1]\n",
    "l_sunz = sunz[-1]\n",
    "l_stereoax = stereoax[-1]\n",
    "l_stereoay = stereoay[-1]\n",
    "l_stereoaz = stereoaz[-1]\n",
    "l_stereobx = stereobx[-1]\n",
    "l_stereoby = stereoby[-1]\n",
    "l_stereobz = stereobz[-1]\n",
    "\n",
    "l5_pos = [df[\"L5 x [km]\"][-1],df[\"L5 y [km]\"][-1],df[\"L5 z [km]\"][-1]]\n",
    "\n",
    "ax.text(l_sohox,l_sohoy,l_sohoz, 'SOHO', fontsize=12, ha='center', va='bottom')\n",
    "ax.text(l_sunx,l_suny,l_sunz, 'Sun', fontsize=12, ha='center', va='bottom')\n",
    "ax.text(l_stereoax,l_stereoay,l_stereoaz, 'Stereo A', fontsize=12, ha='center', va='bottom')\n",
    "ax.text(l_stereobx,l_stereoby,l_stereobz, 'Stereo B', fontsize=12, ha='center', va='bottom')\n",
    "ax.text(*l5_pos, \"L5\",fontsize = 12, ha = \"center\",va = \"bottom\")\n",
    "\n",
    "ax.set_xlabel('X')\n",
    "ax.set_ylabel('Y')\n",
    "ax.set_zlabel('Z')\n",
    "ax.legend()\n",
    "ax.axis(\"off\")\n",
    "plt.savefig(\"soho_sun_l5_stereo.png\")"
   ]
  },
  {
   "cell_type": "code",
   "execution_count": null,
   "id": "2393b6a5-da4d-4624-beab-9b43a0eca763",
   "metadata": {},
   "outputs": [],
   "source": [
    "df.tail()"
   ]
  }
 ],
 "metadata": {
  "environment": {
   "kernel": "python3",
   "name": "pytorch-gpu.1-13.m109",
   "type": "gcloud",
   "uri": "gcr.io/deeplearning-platform-release/pytorch-gpu.1-13:m109"
  },
  "kernelspec": {
   "display_name": "Python 3",
   "language": "python",
   "name": "python3"
  },
  "language_info": {
   "codemirror_mode": {
    "name": "ipython",
    "version": 3
   },
   "file_extension": ".py",
   "mimetype": "text/x-python",
   "name": "python",
   "nbconvert_exporter": "python",
   "pygments_lexer": "ipython3"
  }
 },
 "nbformat": 4,
 "nbformat_minor": 5
}
