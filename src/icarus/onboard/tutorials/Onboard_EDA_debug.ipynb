{
 "cells": [
  {
   "cell_type": "code",
   "execution_count": null,
   "id": "c4cfa924-0be7-4b02-889c-3a9d11454180",
   "metadata": {},
   "outputs": [],
   "source": [
    "import astropy\n",
    "import astropy.io.fits as fits\n",
    "import matplotlib.pyplot as plt\n",
    "import os\n",
    "from pathlib import Path\n",
    "from glob import glob\n",
    "import re\n",
    "import logging\n",
    "from rich.progress import Progress\n",
    "import numpy as np\n",
    "import sunpy\n",
    "import pandas as pd\n",
    "from datetime import datetime, date, timedelta\n",
    "import sscws\n",
    "from sunpy.net import Fido, attrs as a\n",
    "from functools import reduce"
   ]
  },
  {
   "cell_type": "code",
   "execution_count": null,
   "id": "0a17a213",
   "metadata": {},
   "outputs": [],
   "source": [
    "1+1"
   ]
  },
  {
   "cell_type": "code",
   "execution_count": null,
   "id": "5afdca76-56b3-4277-889e-c93d77f1c0f0",
   "metadata": {},
   "outputs": [],
   "source": [
    "fnames = glob(\"/mnt/onboard_data/data/cor2/*.fts\")\n",
    "\n",
    "print(len(fnames))"
   ]
  },
  {
   "cell_type": "code",
   "execution_count": null,
   "id": "b09c1953",
   "metadata": {},
   "outputs": [],
   "source": [
    "file_path = \"/mnt/onboard_data/data/cor2/20220403_000730_d4c2a.fts\"\n",
    "img_data = fits.getdata(file_path)"
   ]
  },
  {
   "cell_type": "code",
   "execution_count": null,
   "id": "b06f6e0d",
   "metadata": {},
   "outputs": [],
   "source": [
    "img_data.shape"
   ]
  },
  {
   "cell_type": "code",
   "execution_count": null,
   "id": "75105943",
   "metadata": {},
   "outputs": [],
   "source": [
    "plt.imshow(img_data)"
   ]
  },
  {
   "cell_type": "code",
   "execution_count": null,
   "id": "8c9ae847",
   "metadata": {},
   "outputs": [],
   "source": [
    "fits.getheader(file_path)"
   ]
  },
  {
   "cell_type": "code",
   "execution_count": null,
   "id": "13d82f2c",
   "metadata": {},
   "outputs": [],
   "source": [
    "file_path = \"/mnt/onboard_data/data/cor2/20090826_145300_s4c2a.fts\"\n",
    "img_data = fits.getdata(file_path)"
   ]
  },
  {
   "cell_type": "code",
   "execution_count": null,
   "id": "63b6a7c5",
   "metadata": {},
   "outputs": [],
   "source": [
    "plt.imshow(img_data)\n",
    "        "
   ]
  },
  {
   "cell_type": "code",
   "execution_count": null,
   "id": "719065d9",
   "metadata": {},
   "outputs": [],
   "source": [
    "fits.getheader(file_path)"
   ]
  },
  {
   "cell_type": "code",
   "execution_count": null,
   "id": "a32bde88",
   "metadata": {},
   "outputs": [],
   "source": [
    "def get_data_image_header(file_path):\n",
    "    img_data = fits.getdata(file_path)\n",
    "    plt.imshow(img_data)\n",
    "    header = fits.getheader(file_path)\n",
    "    return img_data, header\n",
    "\n",
    "img_data, header = get_data_image_header(\"/mnt/onboard_data/data/cor2/20220403_230845_n4c2a.fts\") "
   ]
  },
  {
   "cell_type": "code",
   "execution_count": null,
   "id": "feeb6f3a",
   "metadata": {},
   "outputs": [],
   "source": [
    "header"
   ]
  },
  {
   "cell_type": "code",
   "execution_count": null,
   "id": "122846f8",
   "metadata": {},
   "outputs": [],
   "source": [
    "#count = 0\n",
    "#for f in fnames:\n",
    "#    header = fits.getheader(f)\n",
    "#    if header[\"DOORSTAT\"]==0:\n",
    "#        print(f)\n",
    "#        count=count+1\n"
   ]
  },
  {
   "cell_type": "code",
   "execution_count": null,
   "id": "33218750",
   "metadata": {},
   "outputs": [],
   "source": [
    "## Generate file with list of files and meta data in csv format"
   ]
  },
  {
   "cell_type": "markdown",
   "id": "5bc991f7",
   "metadata": {},
   "source": [
    "https://soho.nascom.nasa.gov/solarsoft/stereo/secchi/doc/FITS_keywords.pdf"
   ]
  },
  {
   "cell_type": "code",
   "execution_count": null,
   "id": "61ba2b6a",
   "metadata": {},
   "outputs": [],
   "source": [
    "fnames = glob(\"/mnt/onboard_data/data/cor2/*.fts\")"
   ]
  },
  {
   "cell_type": "code",
   "execution_count": null,
   "id": "5f13c816",
   "metadata": {},
   "outputs": [],
   "source": [
    "get_data_image_header(\"/mnt/onboard_data/data/cor2/20100716_143339_s4c2a.fts\")"
   ]
  },
  {
   "cell_type": "markdown",
   "id": "60905842",
   "metadata": {},
   "source": [
    "#"
   ]
  },
  {
   "cell_type": "code",
   "execution_count": null,
   "id": "b5f0e77b",
   "metadata": {},
   "outputs": [],
   "source": [
    "get_data_image_header(\"/mnt/onboard_data/data/cor2/20100716_143339_s4c2a.fts\")"
   ]
  },
  {
   "cell_type": "code",
   "execution_count": null,
   "id": "6a9d27f7",
   "metadata": {},
   "outputs": [],
   "source": [
    "name = \"/mnt/onboard_data/data/cor2/20100716_143339_s4c2a.fts\"\n",
    "filekeys = name.split(\"/\")[-1].split(\"_\")[-1]\n",
    "obs_L, obs_A, _, obs_T, obs_S = filekeys[0:5]\n",
    "obs_L \n",
    "print(obs_A)\n",
    "print(obs_T )\n",
    "print(obs_S)"
   ]
  },
  {
   "cell_type": "code",
   "execution_count": null,
   "id": "93776bf8",
   "metadata": {},
   "outputs": [],
   "source": [
    "import pandas as pd\n",
    "from tqdm.notebook import tqdm\n",
    "fnames = glob(\"/mnt/onboard_data/data/cor1/*.fts\")\n",
    "fnames=sorted(fnames)\n",
    "df = pd.DataFrame(columns=('file_name','obs_type','obs_mode','obs_instrument','obs_spacecraft','DOORSTAT','COMPRSSN','COMPFACT', 'IP_TIME', 'EXPTIME', 'COSMICS'))\n",
    "for i, f in enumerate(tqdm(fnames)):\n",
    "    \n",
    "    header = fits.getheader(f)\n",
    "    filekeys = f.split(\"/\")[-1].split(\"_\")[-1]\n",
    "    obs_L, obs_A, _, obs_T, obs_S = filekeys[0:5]# type, mode, instrument, spacecraft\n",
    "    df.loc[i] = [f, obs_L, obs_A, obs_T, obs_S, header[\"DOORSTAT\"], header[\"COMPRSSN\"], header[\"COMPFACT\"],header[\"IP_TIME\"],header[\"EXPTIME\"],header[\"COSMICS\"]]\n",
    "    \n",
    "\n",
    "df.to_csv('/mnt/onboard_data/data/lists/meta_cor1.csv',index=False)\n",
    "    \n"
   ]
  },
  {
   "cell_type": "code",
   "execution_count": null,
   "id": "06cde32a",
   "metadata": {},
   "outputs": [],
   "source": [
    "data_frame = pd.read_csv('/mnt/onboard_data/data/lists/meta_cor1.csv')\n",
    "data_frame.hist(\"obs_mode\")\n"
   ]
  },
  {
   "cell_type": "code",
   "execution_count": null,
   "id": "f8b44572",
   "metadata": {},
   "outputs": [],
   "source": [
    "#distribution of observation types in cor1\n",
    "np.unique(np.array(data_frame[\"obs_type\"]), return_counts=True)\n",
    "\n",
    "#data_frame[\"obs_type\"].apply(pd.value_counts)#plot(kind='bar')"
   ]
  },
  {
   "cell_type": "code",
   "execution_count": null,
   "id": "53075a83",
   "metadata": {},
   "outputs": [],
   "source": [
    "data_frame.hist(figsize=(16,18))"
   ]
  },
  {
   "cell_type": "code",
   "execution_count": null,
   "id": "62738b86",
   "metadata": {},
   "outputs": [],
   "source": [
    "plt.imshow(fits.getdata(f))"
   ]
  },
  {
   "cell_type": "code",
   "execution_count": null,
   "id": "00e7068a",
   "metadata": {},
   "outputs": [],
   "source": [
    "data_frame = pd.read_csv('/mnt/onboard_data/data/lists/meta_cor2.csv')\n",
    "\n",
    "data_frame.hist(figsize = (16,18))"
   ]
  },
  {
   "cell_type": "code",
   "execution_count": null,
   "id": "f98c4e3b",
   "metadata": {},
   "outputs": [],
   "source": [
    "np.unique(np.array(data_frame[\"obs_type\"]), return_counts=True)"
   ]
  },
  {
   "cell_type": "code",
   "execution_count": null,
   "id": "f4eecd6b",
   "metadata": {},
   "outputs": [],
   "source": [
    "def save_observations_meta(file):\n",
    "    fnames = glob(\"/mnt/onboard_data/data/\"+file+\"/*.fts\")\n",
    "    fnames=sorted(fnames)\n",
    "    df = pd.DataFrame(columns=('file_name','obs_type','obs_mode','obs_instrument','obs_spacecraft','DOORSTAT','COMPRSSN','COMPFACT', 'IP_TIME', 'EXPTIME', 'COSMICS','CRPIX1','CRPIX2','BITPIX'))\n",
    "    for i, f in enumerate(tqdm(fnames)):\n",
    "        \n",
    "        header = fits.getheader(f)\n",
    "        filekeys = f.split(\"/\")[-1].split(\"_\")[-1]\n",
    "        obs_L, obs_A, _, obs_T, obs_S = filekeys[0:5]# type, mode, instrument, spacecraft\n",
    "        df.loc[i] = [f, obs_L, obs_A, obs_T, obs_S, header[\"DOORSTAT\"], header[\"COMPRSSN\"], header[\"COMPFACT\"],header[\"IP_TIME\"],header[\"EXPTIME\"],header[\"COSMICS\"],header[\"CRPIX1\"],header[\"CRPIX2\"],header[\"BITPIX\"]]\n",
    "        \n",
    "\n",
    "    df.to_csv('/mnt/onboard_data/data/lists/meta_'+file+'.csv',index=False)"
   ]
  },
  {
   "cell_type": "code",
   "execution_count": null,
   "id": "007ff819",
   "metadata": {},
   "outputs": [],
   "source": [
    "save_observations_meta('cor1')\n",
    "save_observations_meta('cor2')"
   ]
  },
  {
   "cell_type": "code",
   "execution_count": null,
   "id": "c68cd5b0",
   "metadata": {},
   "outputs": [],
   "source": [
    "data_frame=pd.read_csv('/mnt/onboard_data/data/lists/meta_cor2.csv')\n",
    "data_frame.hist(figsize = (16,18))"
   ]
  },
  {
   "cell_type": "code",
   "execution_count": null,
   "id": "91dda7fb",
   "metadata": {},
   "outputs": [],
   "source": [
    "data_frame=pd.read_csv('/mnt/onboard_data/data/lists/meta_cor1.csv')\n",
    "data_frame.hist(figsize = (16,18))"
   ]
  }
 ],
 "metadata": {
  "environment": {
   "kernel": "python3",
   "name": "pytorch-gpu.1-13.m109",
   "type": "gcloud",
   "uri": "gcr.io/deeplearning-platform-release/pytorch-gpu.1-13:m109"
  },
  "kernelspec": {
   "display_name": "Python 3",
   "language": "python",
   "name": "python3"
  },
  "language_info": {
   "codemirror_mode": {
    "name": "ipython",
    "version": 3
   },
   "file_extension": ".py",
   "mimetype": "text/x-python",
   "name": "python",
   "nbconvert_exporter": "python",
   "pygments_lexer": "ipython3"
  }
 },
 "nbformat": 4,
 "nbformat_minor": 5
}
