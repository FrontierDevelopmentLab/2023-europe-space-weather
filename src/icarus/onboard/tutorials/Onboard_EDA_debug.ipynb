{
 "cells": [
  {
   "cell_type": "code",
   "execution_count": null,
   "id": "c4cfa924-0be7-4b02-889c-3a9d11454180",
   "metadata": {},
   "outputs": [],
   "source": [
    "import astropy\n",
    "import astropy.io.fits as fits\n",
    "import matplotlib.pyplot as plt\n",
    "import os\n",
    "from pathlib import Path\n",
    "from glob import glob\n",
    "import re\n",
    "import logging\n",
    "from rich.progress import Progress\n",
    "import numpy as np\n",
    "import sunpy\n",
    "import pandas as pd\n",
    "from datetime import datetime, date, timedelta\n",
    "import sscws\n",
    "from sunpy.net import Fido, attrs as a\n",
    "from functools import reduce"
   ]
  },
  {
   "cell_type": "code",
   "execution_count": null,
   "id": "5afdca76-56b3-4277-889e-c93d77f1c0f0",
   "metadata": {},
   "outputs": [],
   "source": [
    "fnames = glob(\"/mnt/onboard_data/data/cor2/*.fts\")\n",
    "\n",
    "print(len(fnames))"
   ]
  },
  {
   "cell_type": "code",
   "execution_count": null,
   "id": "b09c1953",
   "metadata": {},
   "outputs": [],
   "source": [
    "file_path = \"/mnt/onboard_data/data/cor2/20220403_000730_d4c2a.fts\"\n",
    "img_data = fits.getdata(file_path)"
   ]
  },
  {
   "cell_type": "code",
   "execution_count": null,
   "id": "b06f6e0d",
   "metadata": {},
   "outputs": [],
   "source": [
    "img_data.shape"
   ]
  },
  {
   "cell_type": "code",
   "execution_count": null,
   "id": "75105943",
   "metadata": {},
   "outputs": [],
   "source": [
    "plt.imshow(img_data)"
   ]
  },
  {
   "cell_type": "code",
   "execution_count": null,
   "id": "8c9ae847",
   "metadata": {},
   "outputs": [],
   "source": [
    "fits.getheader(file_path)"
   ]
  },
  {
   "cell_type": "code",
   "execution_count": null,
   "id": "13d82f2c",
   "metadata": {},
   "outputs": [],
   "source": [
    "file_path = \"/mnt/onboard_data/data/cor2/20090826_145300_s4c2a.fts\"\n",
    "img_data = fits.getdata(file_path)"
   ]
  },
  {
   "cell_type": "code",
   "execution_count": null,
   "id": "63b6a7c5",
   "metadata": {},
   "outputs": [],
   "source": [
    "plt.imshow(img_data)\n",
    "        "
   ]
  },
  {
   "cell_type": "code",
   "execution_count": null,
   "id": "719065d9",
   "metadata": {},
   "outputs": [],
   "source": [
    "fits.getheader(file_path)"
   ]
  },
  {
   "cell_type": "code",
   "execution_count": null,
   "id": "a32bde88",
   "metadata": {},
   "outputs": [],
   "source": [
    "def get_data_image_header(file_path):\n",
    "    img_data = fits.getdata(file_path)\n",
    "    plt.imshow(img_data)\n",
    "    header = fits.getheader(file_path)\n",
    "    return img_data, header\n",
    "\n",
    "img_data, header = get_data_image_header(\"/mnt/onboard_data/data/cor2/20220403_230845_n4c2a.fts\") "
   ]
  },
  {
   "cell_type": "code",
   "execution_count": null,
   "id": "feeb6f3a",
   "metadata": {},
   "outputs": [],
   "source": [
    "header"
   ]
  },
  {
   "cell_type": "code",
   "execution_count": null,
   "id": "122846f8",
   "metadata": {},
   "outputs": [],
   "source": [
    "count = 0\n",
    "for f in fnames:\n",
    "    header = fits.getheader(f)\n",
    "    if header[\"DOORSTAT\"]==0:\n",
    "        print(f)\n",
    "        count=count+1\n"
   ]
  },
  {
   "cell_type": "code",
   "execution_count": null,
   "id": "91f85e3d",
   "metadata": {},
   "outputs": [],
   "source": [
    "count/73501"
   ]
  },
  {
   "cell_type": "code",
   "execution_count": null,
   "id": "b92514ad",
   "metadata": {},
   "outputs": [],
   "source": [
    "get_data_image_header(\"/mnt/onboard_data/data/cor2/20100716_143339_s4c2a.fts\")"
   ]
  }
 ],
 "metadata": {
  "environment": {
   "kernel": "python3",
   "name": "pytorch-gpu.1-13.m109",
   "type": "gcloud",
   "uri": "gcr.io/deeplearning-platform-release/pytorch-gpu.1-13:m109"
  },
  "kernelspec": {
   "display_name": "Python 3",
   "language": "python",
   "name": "python3"
  },
  "language_info": {
   "codemirror_mode": {
    "name": "ipython",
    "version": 3
   },
   "file_extension": ".py",
   "mimetype": "text/x-python",
   "name": "python",
   "nbconvert_exporter": "python",
   "pygments_lexer": "ipython3"
  }
 },
 "nbformat": 4,
 "nbformat_minor": 5
}
