{
 "cells": [
  {
   "cell_type": "code",
   "execution_count": null,
   "id": "88cf184f-2fc6-4bdc-9af7-3563fb281c6b",
   "metadata": {},
   "outputs": [],
   "source": [
    "from torch.utils.data import Dataset, DataLoader\n",
    "from glob import glob\n",
    "import numpy as np\n",
    "import astropy.io.fits as fits\n",
    "import os\n",
    "from tqdm.auto import tqdm\n",
    "import torchvision.transforms as transforms\n",
    "import matplotlib.pyplot as plt\n",
    "from datetime import datetime, timedelta\n",
    "from collections import defaultdict\n",
    "import os\n",
    "import copy\n",
    "import json"
   ]
  },
  {
   "cell_type": "markdown",
   "id": "55691686",
   "metadata": {},
   "source": [
    "## Dataloader"
   ]
  },
  {
   "cell_type": "markdown",
   "id": "9703fba8",
   "metadata": {},
   "source": [
    "Note: \n",
    "* If doing a major update to the backgrounds first delete /mnt/onboard_data/classifier/.cache/background"
   ]
  },
  {
   "cell_type": "code",
   "execution_count": null,
   "id": "a833dfae-d80c-4218-8100-25fb1fc864c6",
   "metadata": {},
   "outputs": [],
   "source": [
    "def extract_images_within_time_range(events, image_paths):\n",
    "    selected_images = []\n",
    "\n",
    "    # Organize image paths by date for efficient checking\n",
    "    image_paths_by_date = {}\n",
    "    for image_path in image_paths:\n",
    "        image_date = datetime.strptime(os.path.basename(image_path).split('_')[0], '%Y%m%d').date()\n",
    "        image_paths_by_date.setdefault(image_date, []).append(image_path)\n",
    "\n",
    "    for event in events:\n",
    "\n",
    "        if not event['visible']:\n",
    "            continue\n",
    "\n",
    "        if event['faint']:\n",
    "            continue\n",
    "        \n",
    "        event_start_time = datetime.strptime(event['datetime'], '%Y/%m/%d %H:%M')\n",
    "        event_stop_time = datetime.strptime(event['event_stop_time'], '%Y%m%d_%H%M%S')\n",
    "        event_date = event_start_time.date()\n",
    "        \n",
    "        # Check images within the event's date\n",
    "        if event_date in image_paths_by_date:\n",
    "\n",
    "            paths = image_paths_by_date[event_date]\n",
    "\n",
    "            next_day = event_date + timedelta(days=1)\n",
    "            if next_day in image_paths_by_date:\n",
    "                paths.extend(image_paths_by_date[next_day])\n",
    "            \n",
    "            for image_path in paths:\n",
    "                image_timestamp = datetime.strptime('_'.join(os.path.basename(image_path).split('_')[:2]), '%Y%m%d_%H%M%S')\n",
    "                if event_start_time <= image_timestamp <= event_stop_time:\n",
    "                    selected_images.append(image_path)\n",
    "\n",
    "    return selected_images"
   ]
  },
  {
   "cell_type": "code",
   "execution_count": null,
   "id": "f56e01da-63de-4071-b9d8-440e1c6fa7f7",
   "metadata": {},
   "outputs": [],
   "source": [
    "class CMEDataset(Dataset):\n",
    "\n",
    "    def __init__(self, root, events = [], pol='all', size=512):\n",
    "        self.cache_dir = os.path.join(root, '.cache')\n",
    "        os.makedirs(self.cache_dir, exist_ok=True)\n",
    "        \n",
    "        self.events = events\n",
    "        self.stereo_a = sorted(glob(os.path.join(root, \"201402*\", \"cor1\", \"stereo_a\", \"*\", \"*.fts\")))\n",
    "        self.stereo_b = sorted(glob(os.path.join(root, \"201402*\", \"cor1\", \"stereo_b\", \"*\", \"*.fts\")))\n",
    "\n",
    "        self.pol = pol\n",
    "\n",
    "        self.images = []\n",
    "\n",
    "        if pol == 'all':\n",
    "            self.mean = 2691.3037070368546 \n",
    "            self.std = 2579.566574917962\n",
    "            #self.images.extend([im for im in self.stereo_a if os.path.basename(os.path.dirname(im)) != '1001.0'])\n",
    "            #self.images.extend([im for im in self.stereo_b if os.path.basename(os.path.dirname(im)) != '1001.0'])\n",
    "            self.images.extend([im for im in self.stereo_a if os.path.basename(os.path.dirname(im)) in [\"0.0\", \"120.0\", \"240.0\"]])\n",
    "            self.images.extend([im for im in self.stereo_b if os.path.basename(os.path.dirname(im)) in [\"0.0\", \"120.0\", \"240.0\"]])\n",
    "        elif pol == 'sum':\n",
    "            self.images.extend([im for im in self.stereo_a if 'n4' in im])\n",
    "            self.images.extend([im for im in self.stereo_b if 'n4' in im])\n",
    "            self.mean = 3658.224788149089\n",
    "            self.std = 3399.0258091444553\n",
    "        else:\n",
    "            self.mean = 2691.3037070368546 \n",
    "            self.std = 2579.566574917962\n",
    "\n",
    "            self.images.extend([im for im in self.stereo_a if os.path.basename(os.path.dirname(im)) == pol])\n",
    "            self.images.extend([im for im in self.stereo_b if os.path.basename(os.path.dirname(im)) == pol])\n",
    "\n",
    "        # filter size\n",
    "        for image in self.images:\n",
    "            \n",
    "            if fits.getdata(image).shape != (size,size):\n",
    "                print(f\"Removing {image}\")\n",
    "                self.images.remove(image)\n",
    "\n",
    "            # TODO bug: at this point no 60.0s?\n",
    "            if \"/60.0/\" in str(image):            \n",
    "                print(f\"Removing {image}\")\n",
    "                self.images.remove(image)\n",
    "\n",
    "        self.images = sorted(self.images)\n",
    "        self.images_for_date = defaultdict(lambda: defaultdict(lambda: defaultdict(list)))\n",
    "        self.dates = set()\n",
    "        self.background = defaultdict(lambda: defaultdict(lambda: defaultdict()))\n",
    "        \n",
    "        # TODO bug: but by this point there are 60.0s...??\n",
    "        for image_path in self.images:\n",
    "            image_date = self._image_date(image_path)\n",
    "            sat, angle = self._image_info(image_path)\n",
    "\n",
    "            self.images_for_date[image_date][sat][angle].append(image_path)\n",
    "            self.dates.add(image_date)\n",
    "            \n",
    "        self.transform = transforms.Compose([\n",
    "            transforms.ToTensor(),                   # Convert image to PyTorch tensor\n",
    "            transforms.Normalize(mean=self.mean, std=self.std) # Normalize using mean and std\n",
    "        ])\n",
    "\n",
    "        self._get_labels()\n",
    "        self._gen_background()\n",
    "\n",
    "    def _image_date(self, image):\n",
    "        return datetime.strptime(os.path.basename(image).split('_')[0], '%Y%m%d').date()\n",
    "\n",
    "    def _image_info(self, image_path):\n",
    "        if 'stereo_a' in image_path: sat = 'stereo_a'\n",
    "        elif 'stereo_b' in image_path: sat = 'stereo_b'\n",
    "        if \"/0.0/\" in image_path: angle = \"0.0\"\n",
    "        elif \"/120.0/\" in image_path: angle = \"120.0\"\n",
    "        elif \"/240.0/\" in image_path: angle = \"240.0\"\n",
    "        elif \"/1001.0/\" in image_path: angle = \"1001.0\"\n",
    "\n",
    "        # TODO: bug: why do 60.0s show up now?\n",
    "        elif \"/60.0/\" in image_path: angle = \"60.0\"\n",
    "        elif \"/90.0/\" in image_path: angle = \"90.0\"\n",
    "        elif \"/180.0/\" in image_path: angle = \"180.0\"\n",
    "        elif \"/300.0/\" in image_path: angle = \"300.0\"\n",
    "        else: print(image_path)\n",
    "\n",
    "        return sat, angle\n",
    "\n",
    "    def _get_labels(self):\n",
    "        self.positive_labels = set(extract_images_within_time_range(self.events['stereo_a'], self.stereo_a))\n",
    "        self.positive_labels |= set(extract_images_within_time_range(self.events['stereo_b'], self.stereo_b))\n",
    "        self.cme_images = set([im for im in self.images if im in self.positive_labels])\n",
    "\n",
    "    def _gen_background(self, filter_cme=False):\n",
    "        \"\"\"\n",
    "        Generate backgrounds for each satellite, each polarisation angle\n",
    "        Need to delete cache if want to overwrite\n",
    "        \"\"\"\n",
    "        cache_root = os.path.join(self.cache_dir, \"background\")\n",
    "        os.makedirs(cache_root, exist_ok=True)\n",
    "        print(\"Cache:\", cache_root)\n",
    "        \n",
    "        for date in tqdm(sorted(list(self.dates))):\n",
    "            image_date = date - timedelta(days=1)\n",
    "            date_string = date.strftime(\"%Y%m%d\")\n",
    "            \n",
    "            if image_date not in self.images_for_date:\n",
    "                image_date = date\n",
    "\n",
    "            for sat in ['stereo_a', 'stereo_b']:\n",
    "                for angle in self.images_for_date[image_date][sat].keys():\n",
    "                    cache_path = os.path.join(cache_root, f\"{date_string}_{sat}_{angle}.npy\")\n",
    "        \n",
    "                    if os.path.exists(cache_path):\n",
    "                        self.background[date][sat][angle] = np.load(cache_path)\n",
    "                    else:\n",
    "                        imgs = self.images_for_date[image_date][sat][angle]\n",
    "\n",
    "                        if filter_cme:\n",
    "                            imgs = np.array([fits.getdata(im) for im in imgs if im not in self.cme_images])\n",
    "                        else:\n",
    "                            imgs = np.array([fits.getdata(im) for im in imgs])\n",
    "                        \n",
    "                        self.background[date][sat][angle] = np.median(imgs, axis=0)\n",
    "                        np.save(cache_path, self.background[date][sat][angle])\n",
    "\n",
    "    def _get_background(self, image_path):\n",
    "        \"\"\"\n",
    "        given image path, retrieve correct background from dict\n",
    "        \"\"\"\n",
    "        image_date = self._image_date(image_path)\n",
    "        sat, angle = self._image_info(image_path)\n",
    "\n",
    "        bg = self.background[image_date][sat][angle]\n",
    "\n",
    "        # try:\n",
    "        #     # retrieve background from all non-cme images from previous day\n",
    "        #     # TODO already using day before when generated??\n",
    "        #     bg = self.background[image_date - timedelta(days=1)][sat][angle]\n",
    "        # except KeyError:\n",
    "        #     # handle cases where no background available\n",
    "        #     bg = self.background[image_date][sat][angle]\n",
    "        #     print(\"Warning: using same day background for\", image_path)\n",
    "\n",
    "        return bg\n",
    "\n",
    "    def _get_difference_image(self, i):\n",
    "        \"\"\"\n",
    "        will not give viable results for the first image\n",
    "        (and first day will use same-day background)\n",
    "\n",
    "        TODO: ensure differencing over same sat, same polar with i-1\n",
    "        \"\"\"\n",
    "        # read raw images for current and previous\n",
    "        if i == 0: j = 0\n",
    "        else: j = i-1\n",
    "        raw_img_i = fits.getdata(self.images[i]).astype(np.float32)\n",
    "        raw_img_j = fits.getdata(self.images[j]).astype(np.float32)\n",
    "\n",
    "        # get background from day before\n",
    "        bg = self._get_background(self.images[i])\n",
    "\n",
    "        # get difference image with subtracted background\n",
    "        diff_img = (raw_img_i - bg) - (raw_img_j - bg)\n",
    "\n",
    "        return diff_img\n",
    "                                     \n",
    "    def __getitem__(self, i):\n",
    "        data  = self._get_difference_image(i)\n",
    "        label = int(self.images[i] in self.cme_images)\n",
    "        \n",
    "        return data, label #self.transform(data), label\n",
    "\n",
    "    def __len__(self):\n",
    "        return len(self.images)"
   ]
  },
  {
   "cell_type": "code",
   "execution_count": null,
   "id": "8c629204",
   "metadata": {},
   "outputs": [],
   "source": [
    "# from event scraper of: \n",
    "# https://cor1.gsfc.nasa.gov/catalog/cme/2014/Daniel_Hong_COR1_preliminary_event_list_2014-02.html\n",
    "with open('events_201402.json', 'r') as fp:\n",
    "    events = json.load(fp)"
   ]
  },
  {
   "cell_type": "code",
   "execution_count": null,
   "id": "c9290c05",
   "metadata": {},
   "outputs": [],
   "source": [
    "# manually make each cme arbitrarily 3 hours long\n",
    "\n",
    "date_format = \"%Y%m%d_%H%M%S\"\n",
    "\n",
    "for sat in events.keys():\n",
    "    for i in range(len(events[sat])):\n",
    "        #print(events[sat][i][\"event_stop_time\"])\n",
    "        start = datetime.strptime(events[sat][i][\"event_start_time\"], date_format)\n",
    "        end   = (start + timedelta(hours=3)).strftime(date_format)\n",
    "        events[sat][i][\"event_stop_time\"] = end\n",
    "        #print(events[sat][i][\"event_stop_time\"])\n",
    "        #break\n",
    "    #break"
   ]
  },
  {
   "cell_type": "code",
   "execution_count": null,
   "id": "1bcbd9d7",
   "metadata": {},
   "outputs": [],
   "source": [
    "events"
   ]
  },
  {
   "cell_type": "code",
   "execution_count": null,
   "id": "39b67672-d73f-48dd-a12b-daafc2d29c4c",
   "metadata": {},
   "outputs": [],
   "source": [
    "%%time\n",
    "#events['stereo_a'] = [events['stereo_a'][10]]\n",
    "#events['stereo_b'] = [events['stereo_b'][10]]\n",
    "\n",
    "#ds = CMEDataset(root=\"/media/josh/josh_tuf_a/data/fdl/2023/onboard\", pol='0.0', events=events)\n",
    "#ds = CMEDataset(root=\"/mnt/onboard_data/classifier\", pol='0.0', events=events)\n",
    "\n",
    "# 7 mins without cache, 2-3 with cache\n",
    "ds = CMEDataset(root=\"/mnt/onboard_data/classifier\", pol='all', events=events)"
   ]
  },
  {
   "cell_type": "code",
   "execution_count": null,
   "id": "b63bac0f",
   "metadata": {},
   "outputs": [],
   "source": [
    "print(ds.images_for_date.keys())\n",
    "for k in ds.images_for_date.keys():\n",
    "    print(ds.images_for_date[k].keys())\n",
    "    print(ds.images_for_date[k][\"stereo_a\"].keys())\n",
    "    print(ds.images_for_date[k][\"stereo_b\"].keys())\n",
    "    break"
   ]
  },
  {
   "cell_type": "code",
   "execution_count": null,
   "id": "50fc7460",
   "metadata": {},
   "outputs": [],
   "source": [
    "print(ds.background.keys())\n",
    "for k in ds.background.keys():\n",
    "    print(ds.background[k].keys())\n",
    "    print(ds.background[k][\"stereo_a\"].keys())\n",
    "    print(ds.background[k][\"stereo_a\"][\"0.0\"])\n",
    "    break"
   ]
  },
  {
   "cell_type": "code",
   "execution_count": null,
   "id": "9c74b2dd-81a4-4e5f-a8cc-6a85d9ef28a1",
   "metadata": {},
   "outputs": [],
   "source": [
    "len(ds.cme_images)"
   ]
  },
  {
   "cell_type": "code",
   "execution_count": null,
   "id": "d6080987-43df-4479-9c3b-45d440ea9ab5",
   "metadata": {},
   "outputs": [],
   "source": [
    "len(ds.images)"
   ]
  },
  {
   "cell_type": "code",
   "execution_count": null,
   "id": "23f1ef84",
   "metadata": {},
   "outputs": [],
   "source": [
    "ds.images[:5]"
   ]
  },
  {
   "cell_type": "code",
   "execution_count": null,
   "id": "a480e743",
   "metadata": {},
   "outputs": [],
   "source": [
    "ds.images[-5:]"
   ]
  },
  {
   "cell_type": "code",
   "execution_count": null,
   "id": "f021b60d",
   "metadata": {},
   "outputs": [],
   "source": [
    "ds.dates"
   ]
  },
  {
   "cell_type": "code",
   "execution_count": null,
   "id": "29ad5dfc",
   "metadata": {},
   "outputs": [],
   "source": [
    "raw_img_i = fits.getdata(ds.images[1]).astype(np.float32)\n",
    "raw_img_j = fits.getdata(ds.images[0]).astype(np.float32)"
   ]
  },
  {
   "cell_type": "code",
   "execution_count": null,
   "id": "80d25492",
   "metadata": {},
   "outputs": [],
   "source": [
    "fits.getdata(ds.images[-1]).astype(np.float32).shape"
   ]
  },
  {
   "cell_type": "code",
   "execution_count": null,
   "id": "359379ff",
   "metadata": {},
   "outputs": [],
   "source": [
    "raw_img_i.shape, raw_img_j.shape"
   ]
  },
  {
   "cell_type": "code",
   "execution_count": null,
   "id": "8e094d56",
   "metadata": {},
   "outputs": [],
   "source": [
    "bg_i = ds._get_background(ds.images[1])\n",
    "bg_i.shape"
   ]
  },
  {
   "cell_type": "code",
   "execution_count": null,
   "id": "0516fdd7",
   "metadata": {},
   "outputs": [],
   "source": [
    "image_date = ds._image_date(ds.images[1])\n",
    "image_date"
   ]
  },
  {
   "cell_type": "code",
   "execution_count": null,
   "id": "d2f58589",
   "metadata": {},
   "outputs": [],
   "source": [
    "image_date - timedelta(days=1)"
   ]
  },
  {
   "cell_type": "markdown",
   "id": "74c1ba07",
   "metadata": {},
   "source": [
    "## Check mean std for normalisation"
   ]
  },
  {
   "cell_type": "markdown",
   "id": "72af0bfd",
   "metadata": {},
   "source": [
    "TODO:\n",
    "* double check and update for when background is removed"
   ]
  },
  {
   "cell_type": "code",
   "execution_count": null,
   "id": "1f810655",
   "metadata": {},
   "outputs": [],
   "source": [
    "def compute_mean_std_from_histogram(bin_edges, bin_counts):\n",
    "    # Calculate midpoints of each bin\n",
    "    bin_midpoints = (bin_edges[:-1] + bin_edges[1:]) / 2\n",
    "    \n",
    "    # Calculate weighted sum and total count\n",
    "    weighted_sum = np.sum(bin_midpoints * bin_counts)\n",
    "    total_count = np.sum(bin_counts)\n",
    "    \n",
    "    # Calculate mean\n",
    "    mean = weighted_sum / total_count\n",
    "    \n",
    "    # Calculate weighted squared deviation from mean\n",
    "    weighted_squared_deviation = np.sum(bin_counts * (bin_midpoints - mean)**2)\n",
    "    \n",
    "    # Calculate weighted standard deviation\n",
    "    std = np.sqrt(weighted_squared_deviation / total_count)\n",
    "    \n",
    "    return mean, std\n",
    "\n",
    "def get_dataset_counts(dataset):\n",
    "    \n",
    "    #bit_depth = ds[0].flatten()[0].nbytes\n",
    "    bit_depth = 1 #ds[0][0].flatten()[0].numpy().nbytes\n",
    "    n_vals = 2**(8*bit_depth) # bit_depth of 8 causing this to explode\n",
    "    counts = np.zeros(n_vals, dtype=np.uint64)\n",
    "\n",
    "    for d in tqdm(dataset):\n",
    "        # must be non-negative...\n",
    "        counts += np.bincount(d[0].flatten(), minlength=n_vals).astype(np.uint64)\n",
    "\n",
    "    return counts\n",
    "\n",
    "def get_dataloader_meanstd(ds):\n",
    "    counts = get_dataset_counts(ds)\n",
    "    hist_edges = np.arange(len(counts) + 1)\n",
    "    hist_counts = counts\n",
    "\n",
    "    # Compute mean and standard deviation from the histogram\n",
    "    mean, std = compute_mean_std_from_histogram(hist_edges, hist_counts)\n",
    "\n",
    "    return mean, std"
   ]
  },
  {
   "cell_type": "code",
   "execution_count": null,
   "id": "d909dcfb",
   "metadata": {},
   "outputs": [],
   "source": [
    "%%time\n",
    "# ds = CMEDataset(root=\"/mnt/onboard_data/classifier\", pol='0.0', events=events)"
   ]
  },
  {
   "cell_type": "code",
   "execution_count": null,
   "id": "47d1ea0b",
   "metadata": {},
   "outputs": [],
   "source": [
    "get_dataloader_meanstd(ds)"
   ]
  },
  {
   "cell_type": "code",
   "execution_count": null,
   "id": "1df5cbe9",
   "metadata": {},
   "outputs": [],
   "source": [
    "ds.images[1]"
   ]
  },
  {
   "cell_type": "code",
   "execution_count": null,
   "id": "1d740e8a",
   "metadata": {},
   "outputs": [],
   "source": [
    "ds[1][0]"
   ]
  },
  {
   "cell_type": "code",
   "execution_count": null,
   "id": "60f956c4",
   "metadata": {},
   "outputs": [],
   "source": [
    "plt.hist(ds[1][0].flatten())\n",
    "plt.show()"
   ]
  },
  {
   "cell_type": "code",
   "execution_count": null,
   "id": "e1ca3c0e",
   "metadata": {},
   "outputs": [],
   "source": [
    "len(ds.images)"
   ]
  },
  {
   "cell_type": "code",
   "execution_count": null,
   "id": "06a7d381",
   "metadata": {},
   "outputs": [],
   "source": [
    "ds.images[26360]"
   ]
  },
  {
   "cell_type": "code",
   "execution_count": null,
   "id": "7664cbc1",
   "metadata": {},
   "outputs": [],
   "source": [
    "for d in tqdm(ds):\n",
    "    print(d)\n",
    "    break"
   ]
  },
  {
   "cell_type": "code",
   "execution_count": null,
   "id": "5891cc83",
   "metadata": {},
   "outputs": [],
   "source": [
    "x = []\n",
    "for d in tqdm(ds):\n",
    "    x.append(d[0].flatten())"
   ]
  },
  {
   "cell_type": "code",
   "execution_count": null,
   "id": "621c797b",
   "metadata": {},
   "outputs": [],
   "source": [
    "npx = np.array(x)"
   ]
  },
  {
   "cell_type": "code",
   "execution_count": null,
   "id": "b240a47c",
   "metadata": {},
   "outputs": [],
   "source": [
    "npx.shape"
   ]
  },
  {
   "cell_type": "code",
   "execution_count": null,
   "id": "2f1783f1",
   "metadata": {},
   "outputs": [],
   "source": [
    "np.mean(npx), np.std(npx) # too slow # killed kernel after 20 mins"
   ]
  },
  {
   "cell_type": "markdown",
   "id": "a6a9e512",
   "metadata": {},
   "source": [
    "## Check CME images"
   ]
  },
  {
   "cell_type": "code",
   "execution_count": null,
   "id": "b5c1c692-25cf-49a9-8cb5-a3f7498be517",
   "metadata": {},
   "outputs": [],
   "source": [
    "date = datetime(2014, 2, 25).date()\n",
    "bg = ds.background[date]['stereo_b'][\"0.0\"]\n",
    "\n",
    "plt.figure(figsize=(10,10))\n",
    "plt.subplot(121)\n",
    "plt.imshow(bg)\n",
    "plt.colorbar(location='bottom')\n",
    "\n",
    "plt.subplot(122)\n",
    "_ = plt.hist(bg.flatten(), bins=256)\n",
    "\n",
    "plt.tight_layout()"
   ]
  },
  {
   "cell_type": "code",
   "execution_count": null,
   "id": "361b563b-1752-41a1-91e0-01c7e8415910",
   "metadata": {},
   "outputs": [],
   "source": [
    "idx = 3\n",
    "pol = \"0.0\"\n",
    "img_curr = fits.getdata(ds.images_for_date[date]['stereo_b'][pol][idx])\n",
    "img_prev = fits.getdata(ds.images_for_date[date]['stereo_b'][pol][idx-1])\n",
    "\n",
    "img = (img_curr - bg) - (img_prev - bg)\n",
    "\n",
    "plt.figure(figsize=(10,10))\n",
    "plt.subplot(121)\n",
    "plt.imshow(img)\n",
    "plt.colorbar(location='bottom')\n",
    "\n",
    "plt.subplot(122)\n",
    "_ = plt.hist(img.flatten(), bins=256)\n",
    "\n",
    "plt.tight_layout()"
   ]
  },
  {
   "cell_type": "code",
   "execution_count": null,
   "id": "2c32703c",
   "metadata": {},
   "outputs": [],
   "source": [
    "# if this is 0 I don't know if it is using the background\n",
    "idx = 25\n",
    "img = ds[idx][0]\n",
    "label = ds[idx][1]\n",
    "\n",
    "plt.figure(figsize=(10,10))\n",
    "plt.subplot(121)\n",
    "plt.imshow(img)\n",
    "plt.colorbar(location='bottom')\n",
    "\n",
    "plt.subplot(122)\n",
    "_ = plt.hist(img.flatten(), bins=256)\n",
    "\n",
    "plt.tight_layout()"
   ]
  },
  {
   "cell_type": "markdown",
   "id": "fea3467e",
   "metadata": {},
   "source": [
    "## Further pre-process?"
   ]
  },
  {
   "cell_type": "code",
   "execution_count": null,
   "id": "36093c01",
   "metadata": {},
   "outputs": [],
   "source": [
    "from sunpy.map.maputils import all_coordinates_from_map\n",
    "from sunpy.map import Map\n",
    "from astropy.coordinates import SkyCoord\n",
    "from matplotlib.colors import LogNorm, Normalize, PowerNorm\n",
    "from rich.progress import Progress\n",
    "from sunpy.map import Map\n",
    "import astropy.units as u\n",
    "\n",
    "def generate_image(img_fname, ref_map, vmin=0, vmax=20):\n",
    "    \"\"\"\n",
    "    for single image\n",
    "    \"\"\"\n",
    "    m = Map(img_fname)\n",
    "\n",
    "    pixel_coords = all_coordinates_from_map(m)\n",
    "    solar_center = SkyCoord(0 * u.deg, 0 * u.deg, frame=m.coordinate_frame)\n",
    "    pixel_radii = np.sqrt(\n",
    "        (pixel_coords.Tx - solar_center.Tx) ** 2\n",
    "        + (pixel_coords.Ty - solar_center.Ty) ** 2\n",
    "    )\n",
    "    # r2 masking\n",
    "    mask = 1 - ((pixel_radii / pixel_radii.max()) ** 2) * 0.5\n",
    "    mask = mask.value\n",
    "    mask[pixel_radii.value >= 0.9 * pixel_coords.Tx.max().value] = np.nan\n",
    "\n",
    "    data = (m.data - ref_map) / mask\n",
    "    \n",
    "    # imshow is mirror to m.plot\n",
    "    plt.imshow(data, origin=\"lower\", cmap=\"stereocor2\")"
   ]
  },
  {
   "cell_type": "code",
   "execution_count": null,
   "id": "cd0e24f6-79fb-49ef-990d-403d8c6ff36d",
   "metadata": {},
   "outputs": [],
   "source": [
    "#generate_image(ds.images_for_date[date][20], bg)"
   ]
  }
 ],
 "metadata": {
  "kernelspec": {
   "display_name": "Python 3 (ipykernel)",
   "language": "python",
   "name": "python3"
  },
  "language_info": {
   "codemirror_mode": {
    "name": "ipython",
    "version": 3
   },
   "file_extension": ".py",
   "mimetype": "text/x-python",
   "name": "python",
   "nbconvert_exporter": "python",
   "pygments_lexer": "ipython3"
  }
 },
 "nbformat": 4,
 "nbformat_minor": 5
}
