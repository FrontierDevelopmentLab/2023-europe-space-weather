{
 "cells": [
  {
   "cell_type": "code",
   "execution_count": null,
   "id": "44167368-f923-4d0b-a4a5-07951754683f",
   "metadata": {},
   "outputs": [],
   "source": [
    "import bs4\n",
    "import requests\n",
    "from datetime import datetime\n",
    "from tqdm.auto import tqdm\n",
    "from urllib.parse import urljoin\n",
    "import re\n",
    "from collections import defaultdict\n",
    "import json\n",
    "\n",
    "# <3 ChatGPT\n",
    "def extract_cardinal_direction(text):\n",
    "    direction_pattern = re.compile(r'\\b(N|NNE|NE|ENE|E|ESE|SE|SSE|S|SSW|SW|WSW|W|WNW|NW|NNW)\\b', re.IGNORECASE)\n",
    "    match = direction_pattern.search(text)\n",
    "    \n",
    "    if match:\n",
    "        return match.group(1)\n",
    "    else:\n",
    "        return None\n",
    "    \n",
    "def extract_timestamp_and_urls(text):\n",
    "    url_pattern = re.compile(r'urls\\[\\d+\\]=(.*?);', re.DOTALL)\n",
    "    urls = url_pattern.findall(text)\n",
    "\n",
    "    timestamps = []\n",
    "    \n",
    "    for url in urls:\n",
    "        url = url.strip(' \"\\'')\n",
    "        timestamp_str = re.search(r'(\\d{8}_\\d{6})\\.png', url).group(1)\n",
    "        timestamps.append(timestamp_str)\n",
    "\n",
    "    return timestamps[0], timestamps[-1]"
   ]
  },
  {
   "cell_type": "code",
   "execution_count": null,
   "id": "21c3b6cc-c561-4a70-b780-b4b903b1177d",
   "metadata": {},
   "outputs": [],
   "source": [
    "def extract_event(cols):\n",
    "    \n",
    "    link = cols[1].find('a')\n",
    "    \n",
    "    event = {}\n",
    "    \n",
    "    event['datetime'] = f\"{cols[0].text} {cols[2].text}\"\n",
    "    event['type'] = link.text\n",
    "\n",
    "    comment = cols[3].text\n",
    "\n",
    "    event['faint'] = 'faint' in comment\n",
    "    event['narrow'] = 'narrow' in comment\n",
    "    event['wide'] = 'wide' in comment\n",
    "    event['fast'] = 'fast' in comment\n",
    "    event['visible'] = not 'seen' in comment\n",
    "    event['direction'] = extract_cardinal_direction(comment)\n",
    "\n",
    "    video = urljoin(url, link[\"href\"]).strip()            \n",
    "    tstart, tend = extract_timestamp_and_urls(requests.get(video).text)\n",
    "    event['event_start_time'] = tstart\n",
    "    event['event_stop_time'] = tend\n",
    "\n",
    "    return event"
   ]
  },
  {
   "cell_type": "code",
   "execution_count": null,
   "id": "3726f202-608f-4e3e-ad6d-621fba6bcc79",
   "metadata": {},
   "outputs": [],
   "source": [
    "def get_event_row(catalog_page) -> dict:\n",
    "    \n",
    "    soup = bs4.BeautifulSoup(requests.get(catalog_page).text)\n",
    "    rows = soup.find_all('tr')\n",
    "    \n",
    "    out = defaultdict(list)\n",
    "    \n",
    "    pbar = tqdm(rows)\n",
    "    \n",
    "    for row in pbar:\n",
    "        cols = row.find_all('td')\n",
    "        \n",
    "        if len(cols) < 2:\n",
    "            continue\n",
    "            \n",
    "        link = cols[1].find('a')\n",
    "        \n",
    "        if link is None:\n",
    "            continue\n",
    "        \n",
    "        if 'CME' in link.text:\n",
    "            # Stereo A\n",
    "            a = extract_event(cols[:6])\n",
    "            \n",
    "            # Stereo B\n",
    "            b = extract_event(cols[6:])\n",
    "            \n",
    "            out['stereo_a'].append(a)catherine@trillium.tech\n",
    "            out['stereo_b'].append(b)\n",
    "                \n",
    "    return out"
   ]
  },
  {
   "cell_type": "code",
   "execution_count": null,
   "id": "494e81d9-64ea-452a-a3f3-7a66c63433de",
   "metadata": {},
   "outputs": [],
   "source": [
    "url = \"https://cor1.gsfc.nasa.gov/catalog/cme/2014/Daniel_Hong_COR1_preliminary_event_list_2014-02.html\"\n",
    "events = get_event_row(url)"
   ]
  },
  {
   "cell_type": "code",
   "execution_count": null,
   "id": "f5894e2b-99fe-4843-9470-eebb2df164e2",
   "metadata": {},
   "outputs": [],
   "source": [
    "import os\n",
    "import shutil"
   ]
  },
  {
   "cell_type": "code",
   "execution_count": null,
   "id": "79daf2d6-f13e-43bc-b42c-f7ad368e5498",
   "metadata": {},
   "outputs": [],
   "source": [
    "date_folders = glob(\"/media/josh/josh_tuf_a/data/fdl/2023/onboard/*\")\n",
    "os.makedirs(\"/media/josh/josh_tuf_a/data/fdl/2023/wrong\", exist_ok=True)"
   ]
  },
  {
   "cell_type": "code",
   "execution_count": null,
   "id": "25fb6086-64f9-4f78-8f60-fcc3dddcbb17",
   "metadata": {},
   "outputs": [],
   "source": [
    "for date_folder in date_folders:\n",
    "\n",
    "    date = os.path.basename(date_folder)\n",
    "\n",
    "    for objects in os.walk(top = date_folder):\n",
    "        dirpath, dirnames, filenames = objects\n",
    "        if 'cor' not in dirpath:\n",
    "            continue\n",
    "        \n",
    "        for file in filenames:\n",
    "            if date not in file and date[:4] == file[:4]:\n",
    "                shutil.move(os.path.join(dirpath, file), \"/media/josh/josh_tuf_a/data/fdl/2023/wrong\")"
   ]
  },
  {
   "cell_type": "code",
   "execution_count": null,
   "id": "bee53b13-0414-42c7-b752-408e4304d47a",
   "metadata": {},
   "outputs": [],
   "source": [
    "os.path.basename(date_folder)"
   ]
  },
  {
   "cell_type": "code",
   "execution_count": null,
   "id": "f18d4ba7-a80a-4f27-901b-4384f2f8fc83",
   "metadata": {},
   "outputs": [],
   "source": [
    "date"
   ]
  }
 ],
 "metadata": {
  "kernelspec": {
   "display_name": "Python 3 (ipykernel)",
   "language": "python",
   "name": "python3"
  },
  "language_info": {
   "codemirror_mode": {
    "name": "ipython",
    "version": 3
   },
   "file_extension": ".py",
   "mimetype": "text/x-python",
   "name": "python",
   "nbconvert_exporter": "python",
   "pygments_lexer": "ipython3"
  }
 },
 "nbformat": 4,
 "nbformat_minor": 5
}
